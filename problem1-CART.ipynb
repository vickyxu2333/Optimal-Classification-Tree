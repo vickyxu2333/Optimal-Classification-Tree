{
 "cells": [
  {
   "cell_type": "markdown",
   "metadata": {},
   "source": [
    "## Cross validation"
   ]
  },
  {
   "cell_type": "code",
   "execution_count": 23,
   "metadata": {
    "scrolled": true
   },
   "outputs": [
    {
     "name": "stdout",
     "output_type": "stream",
     "text": [
      "[1, 2, 3, 4, 5, 6, 7, 8, 9, 10, 11, 12, 13, 14, 15, 16, 17, 18, 19, 20] [0.8551132544696867, 0.8551132544696867, 0.8304543621454497, 0.8406455840838823, 0.8536597660975938, 0.834806425594838, 0.8203303535421428, 0.8101727382712731, 0.8174317784648475, 0.7985532329614196, 0.7971333512568894, 0.8087276515660707, 0.7970997445893265, 0.7985532329614196, 0.7956462562172335, 0.7956462562172335, 0.7956462562172335, 0.7956462562172335, 0.7956462562172335, 0.7956462562172335]\n"
     ]
    },
    {
     "data": {
      "image/png": "[encoded data removed]",
      "text/plain": [
       "<Figure size 432x288 with 1 Axes>"
      ]
     },
     "metadata": {
      "needs_background": "light"
     },
     "output_type": "display_data"
    },
    {
     "name": "stdout",
     "output_type": "stream",
     "text": [
      "The best accuracy of CART is 0.8551132544696867 and the corresponding depth is 1\n"
     ]
    }
   ],
   "source": [
    "%matplotlib inline \n",
    "from sklearn.model_selection import cross_val_score\n",
    "\n",
    "score_list = []\n",
    "depths = []\n",
    "\n",
    "for dep in range(1,21):\n",
    "    depths.append(dep)\n",
    "    clf_cross = DecisionTreeClassifier(\n",
    "        max_depth = dep, max_leaf_nodes = 2**dep, random_state = 7021)\n",
    "    scores = cross_val_score(clf_cross, X_1, y_1, cv=4)\n",
    "    score_list.append(scores.mean())\n",
    "\n",
    "print(depths,score_list)\n",
    "\n",
    "plt.plot(depths,score_list)\n",
    "plt.show()\n",
    "\n",
    "print('The best accuracy of CART is', max(score_list),'and the corresponding depth is',score_list.index(max(score_list))+1)"
   ]
  },
  {
   "cell_type": "markdown",
   "metadata": {},
   "source": [
    "## CART"
   ]
  },
  {
   "cell_type": "code",
   "execution_count": 24,
   "metadata": {},
   "outputs": [],
   "source": [
    "depth = 1"
   ]
  },
  {
   "cell_type": "code",
   "execution_count": 25,
   "metadata": {
    "scrolled": true
   },
   "outputs": [
    {
     "data": {
      "text/plain": [
       "DecisionTreeClassifier(max_depth=1, max_leaf_nodes=2, random_state=7021)"
      ]
     },
     "execution_count": 25,
     "metadata": {},
     "output_type": "execute_result"
    }
   ],
   "source": [
    "clf_1 = DecisionTreeClassifier(\n",
    "    max_depth = depth, max_leaf_nodes = 2**depth, random_state = 7021)\n",
    "clf_1.fit(X_train_1, y_train_1)\n"
   ]
  },
  {
   "cell_type": "code",
   "execution_count": 26,
   "metadata": {},
   "outputs": [
    {
     "data": {
      "image/png": "[encoded data removed]",
      "text/plain": [
       "<Figure size 576x432 with 1 Axes>"
      ]
     },
     "metadata": {
      "needs_background": "light"
     },
     "output_type": "display_data"
    }
   ],
   "source": [
    "fig_1 = plt.figure(figsize = (8, 6))\n",
    "_ = plot_tree(\n",
    "    clf_1, filled = False, fontsize = 8, rounded = True, feature_names = tuple(df_1_final.columns[0:-1]))\n",
    "fig_1.savefig('CART_1.png')"
   ]
  },
  {
   "cell_type": "code",
   "execution_count": 27,
   "metadata": {
    "scrolled": false
   },
   "outputs": [
    {
     "name": "stdout",
     "output_type": "stream",
     "text": [
      "|--- A9_f <= 0.50\n",
      "|   |--- class: 1\n",
      "|--- A9_f >  0.50\n",
      "|   |--- class: 0\n",
      "\n"
     ]
    }
   ],
   "source": [
    "print(export_text(clf_1, feature_names = tuple(df_1_final.columns[0:-1])))"
   ]
  },
  {
   "cell_type": "code",
   "execution_count": 28,
   "metadata": {},
   "outputs": [],
   "source": [
    "def find_path(root, path, x, children_left, children_right):\n",
    "    path.append(root)\n",
    "    if root == x:\n",
    "        return True\n",
    "    left = False\n",
    "    right = False\n",
    "    if (children_left[root] != -1):\n",
    "        left = find_path(children_left[root], path, x, children_left, children_right)\n",
    "    if (children_right[root] != -1):\n",
    "        right = find_path(children_right[root], path, x, children_left, children_right)\n",
    "    if left or right:\n",
    "        return True\n",
    "    path.remove(root)\n",
    "    return False\n",
    "\n",
    "def get_rule(path, children_left, attributes, feature, threshold):\n",
    "    mask = ''\n",
    "    for idx, node in enumerate(path):\n",
    "        # filter out the leaf node\n",
    "        if idx != len(path) - 1:\n",
    "            # left or right branch node\n",
    "            if (children_left[node] == path[idx + 1]):\n",
    "                mask += \"('{}' <= {:.2f}) \\t \".format(\n",
    "                    attributes[feature[node]], threshold[node])\n",
    "            else:\n",
    "                mask += \"('{}' > {:.2f}) \\t \".format(\n",
    "                    attributes[feature[node]], threshold[node])\n",
    "    mask = mask.replace(\"\\t\", \"&\", mask.count(\"\\t\") - 1)\n",
    "    mask = mask.replace(\"\\t\", \"\").strip()\n",
    "    return mask"
   ]
  },
  {
   "cell_type": "code",
   "execution_count": 29,
   "metadata": {},
   "outputs": [],
   "source": [
    "children_left_1 = clf_1.tree_.children_left\n",
    "children_right_1 = clf_1.tree_.children_right\n",
    "feature_1 = clf_1.tree_.feature\n",
    "threshold_1 = clf_1.tree_.threshold"
   ]
  },
  {
   "cell_type": "code",
   "execution_count": 30,
   "metadata": {},
   "outputs": [],
   "source": [
    "leaf_id_1 = np.unique(clf_1.apply(X_train_1))\n",
    "\n",
    "paths_1 = {}\n",
    "for leaf in leaf_id_1:\n",
    "    path_leaf = []\n",
    "    find_path(0, path_leaf, leaf, children_left_1, children_right_1)\n",
    "    paths_1[leaf] = path_leaf\n",
    "\n",
    "CART_rules_1 = {}\n",
    "for leaf in paths_1:\n",
    "    CART_rules_1[leaf] = get_rule(paths_1[leaf], children_left_1, tuple(df_1_final.columns[0:-1]), feature_1, threshold_1)"
   ]
  },
  {
   "cell_type": "code",
   "execution_count": 31,
   "metadata": {},
   "outputs": [
    {
     "data": {
      "text/plain": [
       "array([1, 2], dtype=int64)"
      ]
     },
     "execution_count": 31,
     "metadata": {},
     "output_type": "execute_result"
    }
   ],
   "source": [
    "leaf_id_1"
   ]
  },
  {
   "cell_type": "code",
   "execution_count": 32,
   "metadata": {
    "scrolled": true
   },
   "outputs": [
    {
     "data": {
      "text/plain": [
       "{1: \"('A9_f' <= 0.50)\", 2: \"('A9_f' > 0.50)\"}"
      ]
     },
     "execution_count": 32,
     "metadata": {},
     "output_type": "execute_result"
    }
   ],
   "source": [
    "CART_rules_1"
   ]
  },
  {
   "cell_type": "code",
   "execution_count": 33,
   "metadata": {},
   "outputs": [],
   "source": [
    "from IPython.core.interactiveshell import InteractiveShell\n",
    "InteractiveShell.ast_node_interactivity = \"all\""
   ]
  },
  {
   "cell_type": "code",
   "execution_count": 34,
   "metadata": {},
   "outputs": [],
   "source": [
    "total_nodes_1 = clf_1.tree_.node_count\n",
    "leaf_nodes_1 = round(total_nodes_1 / 2)\n",
    "branch_nodes_1 = total_nodes_1 // 2"
   ]
  },
  {
   "cell_type": "code",
   "execution_count": 35,
   "metadata": {},
   "outputs": [
    {
     "data": {
      "text/plain": [
       "array([32], dtype=int64)"
      ]
     },
     "execution_count": 35,
     "metadata": {},
     "output_type": "execute_result"
    }
   ],
   "source": [
    "initial_a_1 = np.array([i for i in clf_1.tree_.feature if i != -2])\n",
    "initial_a_1"
   ]
  },
  {
   "cell_type": "code",
   "execution_count": 36,
   "metadata": {},
   "outputs": [
    {
     "data": {
      "text/plain": [
       "array([0.5])"
      ]
     },
     "execution_count": 36,
     "metadata": {},
     "output_type": "execute_result"
    }
   ],
   "source": [
    "initial_b_1 = np.array([i for i in clf_1.tree_.threshold if i != -2])\n",
    "initial_b_1"
   ]
  },
  {
   "cell_type": "code",
   "execution_count": 37,
   "metadata": {},
   "outputs": [
    {
     "data": {
      "text/plain": [
       "0.8571428571428571"
      ]
     },
     "execution_count": 37,
     "metadata": {},
     "output_type": "execute_result"
    }
   ],
   "source": [
    "clf_1.score(X_train_1, y_train_1)"
   ]
  },
  {
   "cell_type": "code",
   "execution_count": 38,
   "metadata": {},
   "outputs": [
    {
     "data": {
      "text/plain": [
       "0.8488372093023255"
      ]
     },
     "execution_count": 38,
     "metadata": {},
     "output_type": "execute_result"
    }
   ],
   "source": [
    "clf_1.score(X_test_1, y_test_1)"
   ]
  },
  {
   "cell_type": "markdown",
   "metadata": {},
   "source": [
    "### Rules and performance of CART"
   ]
  },
  {
   "cell_type": "code",
   "execution_count": 39,
   "metadata": {
    "scrolled": true
   },
   "outputs": [
    {
     "name": "stdout",
     "output_type": "stream",
     "text": [
      "The decision rules in CART is  {1: \"('A9_f' <= 0.50)\", 2: \"('A9_f' > 0.50)\"}\n",
      "\n",
      "The in-sample performance in CART is 0.8571428571428571\n",
      "\n",
      "The out-of-sample performance in CART is 0.8488372093023255\n"
     ]
    }
   ],
   "source": [
    "print('The decision rules in CART is ', CART_rules_1)\n",
    "print('\\nThe in-sample performance in CART is', clf_1.score(X_train_1, y_train_1))\n",
    "print('\\nThe out-of-sample performance in CART is', clf_1.score(X_test_1, y_test_1))"
   ]
  },
  {
   "cell_type": "code",
   "execution_count": null,
   "metadata": {},
   "outputs": [],
   "source": []
  },
  {
   "cell_type": "code",
   "execution_count": null,
   "metadata": {},
   "outputs": [],
   "source": []
  },
  {
   "cell_type": "code",
   "execution_count": null,
   "metadata": {},
   "outputs": [],
   "source": []
  },
  {
   "cell_type": "code",
   "execution_count": null,
   "metadata": {},
   "outputs": [],
   "source": []
  },
  {
   "cell_type": "code",
   "execution_count": null,
   "metadata": {},
   "outputs": [],
   "source": []
  }
 ],
 "metadata": {
  "kernelspec": {
   "display_name": "Python 3",
   "language": "python",
   "name": "python3"
  },
  "language_info": {
   "codemirror_mode": {
    "name": "ipython",
    "version": 3
   },
   "file_extension": ".py",
   "mimetype": "text/x-python",
   "name": "python",
   "nbconvert_exporter": "python",
   "pygments_lexer": "ipython3",
   "version": "3.8.3"
  },
  "toc": {
   "base_numbering": 1,
   "nav_menu": {},
   "number_sections": true,
   "sideBar": true,
   "skip_h1_title": false,
   "title_cell": "Table of Contents",
   "title_sidebar": "Contents",
   "toc_cell": false,
   "toc_position": {
    "height": "calc(100% - 180px)",
    "left": "10px",
    "top": "150px",
    "width": "315.82px"
   },
   "toc_section_display": true,
   "toc_window_display": false
  }
 },
 "nbformat": 4,
 "nbformat_minor": 4
}
