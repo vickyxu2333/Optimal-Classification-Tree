{
 "cells": [
  {
   "cell_type": "code",
   "execution_count": 1,
   "metadata": {},
   "outputs": [],
   "source": [
    "import pandas as pd\n",
    "import numpy as np\n",
    "import csv\n",
    "\n",
    "import requests\n",
    "from io import StringIO\n",
    "\n",
    "from sklearn.tree import DecisionTreeClassifier, plot_tree, export_text\n",
    "\n",
    "import matplotlib.pyplot as plt\n",
    "%matplotlib notebook\n",
    "\n",
    "import warnings\n",
    "warnings.filterwarnings('ignore')"
   ]
  },
  {
   "cell_type": "markdown",
   "metadata": {},
   "source": [
    "# Problem B"
   ]
  },
  {
   "cell_type": "markdown",
   "metadata": {},
   "source": [
    "##  Imputing the missing value"
   ]
  },
  {
   "cell_type": "code",
   "execution_count": 2,
   "metadata": {
    "scrolled": true
   },
   "outputs": [],
   "source": [
    "attributes = ['age','gender','TB','DB','Alkphos','Sgpt','Sgot','TP','ALB','A/G','class']\n",
    "df_2 = pd.read_csv(\"./Indian Liver Patient Dataset (ILPD).csv\", encoding='utf-8',header = None, names = attributes)"
   ]
  },
  {
   "cell_type": "code",
   "execution_count": 4,
   "metadata": {
    "scrolled": true
   },
   "outputs": [
    {
     "data": {
      "text/plain": [
       "age        0\n",
       "gender     0\n",
       "TB         0\n",
       "DB         0\n",
       "Alkphos    0\n",
       "Sgpt       0\n",
       "Sgot       0\n",
       "TP         0\n",
       "ALB        0\n",
       "A/G        4\n",
       "class      0\n",
       "dtype: int64"
      ]
     },
     "execution_count": 4,
     "metadata": {},
     "output_type": "execute_result"
    }
   ],
   "source": [
    "df_2.isnull().sum()"
   ]
  },
  {
   "cell_type": "code",
   "execution_count": 5,
   "metadata": {},
   "outputs": [],
   "source": [
    "df_2['A/G'] = df_2['A/G'].replace(np.nan,df_2['A/G'].mean())"
   ]
  },
  {
   "cell_type": "code",
   "execution_count": 6,
   "metadata": {},
   "outputs": [],
   "source": [
    "df_2 = pd.get_dummies(df_2, prefix='gender')\n",
    "df_2 = df_2.drop(columns = 'gender_Female')"
   ]
  },
  {
   "cell_type": "code",
   "execution_count": 7,
   "metadata": {},
   "outputs": [],
   "source": [
    "df_2 = df_2.astype(float)"
   ]
  },
  {
   "cell_type": "code",
   "execution_count": 8,
   "metadata": {},
   "outputs": [],
   "source": [
    "df_2 = df_2 / df_2.max() # rescale attributes [0, 1]\n",
    "df_2['class'] = df_2['class'].apply(lambda x: 0 if x == 0.5 else x)"
   ]
  },
  {
   "cell_type": "code",
   "execution_count": 9,
   "metadata": {
    "scrolled": false
   },
   "outputs": [],
   "source": [
    "df_2 = df_2[['age','gender_Male','TB','DB','Alkphos','Sgpt','Sgot','TP','ALB','A/G','class']]"
   ]
  },
  {
   "cell_type": "markdown",
   "metadata": {},
   "source": [
    "## split data"
   ]
  },
  {
   "cell_type": "code",
   "execution_count": 10,
   "metadata": {},
   "outputs": [],
   "source": [
    "df_2 = df_2.sample(frac = 1, random_state = 7021).reset_index(drop = True)\n",
    "N_train_2 = round(0.75 * df_2.shape[0])\n",
    "X_2 = df_2.iloc[:,:-1]\n",
    "y_2 = df_2.iloc[:, -1]\n",
    "X_train_2 = X_2.iloc[0:N_train_2,:]\n",
    "X_test_2 = X_2.iloc[N_train_2:,:]\n",
    "y_train_2 = y_2.iloc[:N_train_2]\n",
    "y_test_2 = y_2.iloc[N_train_2:]"
   ]
  },
  {
   "cell_type": "code",
   "execution_count": 11,
   "metadata": {},
   "outputs": [],
   "source": [
    "N_2, P_2 = X_train_2.shape"
   ]
  },
  {
   "cell_type": "markdown",
   "metadata": {},
   "source": [
    "## cross validation"
   ]
  },
  {
   "cell_type": "code",
   "execution_count": 15,
   "metadata": {},
   "outputs": [
    {
     "data": {
      "image/png": "[encoded data removed]",
      "text/plain": [
       "<Figure size 432x288 with 1 Axes>"
      ]
     },
     "metadata": {
      "needs_background": "light"
     },
     "output_type": "display_data"
    },
    {
     "name": "stdout",
     "output_type": "stream",
     "text": [
      "The best accuracy is 0.7135573239021515 and the corresponding depth is 1\n"
     ]
    }
   ],
   "source": [
    "%matplotlib inline \n",
    "from sklearn.model_selection import cross_val_score\n",
    "\n",
    "score_list = []\n",
    "depths = []\n",
    "\n",
    "for dep in range(1,21):\n",
    "    depths.append(dep)\n",
    "    clf_cross = DecisionTreeClassifier(\n",
    "        max_depth = dep, max_leaf_nodes = 2**dep, random_state = 7021)\n",
    "    scores = cross_val_score(clf_cross, X_2, y_2, cv=5)\n",
    "    score_list.append(scores.mean())\n",
    "\n",
    "plt.plot(depths,score_list)\n",
    "plt.show()\n",
    "\n",
    "print('The best accuracy is', max(score_list), 'and the corresponding depth is', score_list.index(max(score_list))+1)"
   ]
  },
  {
   "cell_type": "markdown",
   "metadata": {},
   "source": [
    "## CART"
   ]
  },
  {
   "cell_type": "code",
   "execution_count": 20,
   "metadata": {},
   "outputs": [
    {
     "data": {
      "application/javascript": [
       "/* Put everything inside the global mpl namespace */\n",
       "window.mpl = {};\n",
       "\n",
       "\n",
       "mpl.get_websocket_type = function() {\n",
       "    if (typeof(WebSocket) !== 'undefined') {\n",
       "        return WebSocket;\n",
       "    } else if (typeof(MozWebSocket) !== 'undefined') {\n",
       "        return MozWebSocket;\n",
       "    } else {\n",
       "        alert('Your browser does not have WebSocket support. ' +\n",
       "              'Please try Chrome, Safari or Firefox ≥ 6. ' +\n",
       "              'Firefox 4 and 5 are also supported but you ' +\n",
       "              'have to enable WebSockets in about:config.');\n",
       "    };\n",
       "}\n",
       "\n",
       "mpl.figure = function(figure_id, websocket, ondownload, parent_element) {\n",
       "    this.id = figure_id;\n",
       "\n",
       "    this.ws = websocket;\n",
       "\n",
       "    this.supports_binary = (this.ws.binaryType != undefined);\n",
       "\n",
       "    if (!this.supports_binary) {\n",
       "        var warnings = document.getElementById(\"mpl-warnings\");\n",
       "        if (warnings) {\n",
       "            warnings.style.display = 'block';\n",
       "            warnings.textContent = (\n",
       "                \"This browser does not support binary websocket messages. \" +\n",
       "                    \"Performance may be slow.\");\n",
       "        }\n",
       "    }\n",
       "\n",
       "    this.imageObj = new Image();\n",
       "\n",
       "    this.context = undefined;\n",
       "    this.message = undefined;\n",
       "    this.canvas = undefined;\n",
       "    this.rubberband_canvas = undefined;\n",
       "    this.rubberband_context = undefined;\n",
       "    this.format_dropdown = undefined;\n",
       "\n",
       "    this.image_mode = 'full';\n",
       "\n",
       "    this.root = $('<div/>');\n",
       "    this._root_extra_style(this.root)\n",
       "    this.root.attr('style', 'display: inline-block');\n",
       "\n",
       "    $(parent_element).append(this.root);\n",
       "\n",
       "    this._init_header(this);\n",
       "    this._init_canvas(this);\n",
       "    this._init_toolbar(this);\n",
       "\n",
       "    var fig = this;\n",
       "\n",
       "    this.waiting = false;\n",
       "\n",
       "    this.ws.onopen =  function () {\n",
       "            fig.send_message(\"supports_binary\", {value: fig.supports_binary});\n",
       "            fig.send_message(\"send_image_mode\", {});\n",
       "            if (mpl.ratio != 1) {\n",
       "                fig.send_message(\"set_dpi_ratio\", {'dpi_ratio': mpl.ratio});\n",
       "            }\n",
       "            fig.send_message(\"refresh\", {});\n",
       "        }\n",
       "\n",
       "    this.imageObj.onload = function() {\n",
       "            if (fig.image_mode == 'full') {\n",
       "                // Full images could contain transparency (where diff images\n",
       "                // almost always do), so we need to clear the canvas so that\n",
       "                // there is no ghosting.\n",
       "                fig.context.clearRect(0, 0, fig.canvas.width, fig.canvas.height);\n",
       "            }\n",
       "            fig.context.drawImage(fig.imageObj, 0, 0);\n",
       "        };\n",
       "\n",
       "    this.imageObj.onunload = function() {\n",
       "        fig.ws.close();\n",
       "    }\n",
       "\n",
       "    this.ws.onmessage = this._make_on_message_function(this);\n",
       "\n",
       "    this.ondownload = ondownload;\n",
       "}\n",
       "\n",
       "mpl.figure.prototype._init_header = function() {\n",
       "    var titlebar = $(\n",
       "        '<div class=\"ui-dialog-titlebar ui-widget-header ui-corner-all ' +\n",
       "        'ui-helper-clearfix\"/>');\n",
       "    var titletext = $(\n",
       "        '<div class=\"ui-dialog-title\" style=\"width: 100%; ' +\n",
       "        'text-align: center; padding: 3px;\"/>');\n",
       "    titlebar.append(titletext)\n",
       "    this.root.append(titlebar);\n",
       "    this.header = titletext[0];\n",
       "}\n",
       "\n",
       "\n",
       "\n",
       "mpl.figure.prototype._canvas_extra_style = function(canvas_div) {\n",
       "\n",
       "}\n",
       "\n",
       "\n",
       "mpl.figure.prototype._root_extra_style = function(canvas_div) {\n",
       "\n",
       "}\n",
       "\n",
       "mpl.figure.prototype._init_canvas = function() {\n",
       "    var fig = this;\n",
       "\n",
       "    var canvas_div = $('<div/>');\n",
       "\n",
       "    canvas_div.attr('style', 'position: relative; clear: both; outline: 0');\n",
       "\n",
       "    function canvas_keyboard_event(event) {\n",
       "        return fig.key_event(event, event['data']);\n",
       "    }\n",
       "\n",
       "    canvas_div.keydown('key_press', canvas_keyboard_event);\n",
       "    canvas_div.keyup('key_release', canvas_keyboard_event);\n",
       "    this.canvas_div = canvas_div\n",
       "    this._canvas_extra_style(canvas_div)\n",
       "    this.root.append(canvas_div);\n",
       "\n",
       "    var canvas = $('<canvas/>');\n",
       "    canvas.addClass('mpl-canvas');\n",
       "    canvas.attr('style', \"left: 0; top: 0; z-index: 0; outline: 0\")\n",
       "\n",
       "    this.canvas = canvas[0];\n",
       "    this.context = canvas[0].getContext(\"2d\");\n",
       "\n",
       "    var backingStore = this.context.backingStorePixelRatio ||\n",
       "\tthis.context.webkitBackingStorePixelRatio ||\n",
       "\tthis.context.mozBackingStorePixelRatio ||\n",
       "\tthis.context.msBackingStorePixelRatio ||\n",
       "\tthis.context.oBackingStorePixelRatio ||\n",
       "\tthis.context.backingStorePixelRatio || 1;\n",
       "\n",
       "    mpl.ratio = (window.devicePixelRatio || 1) / backingStore;\n",
       "\n",
       "    var rubberband = $('<canvas/>');\n",
       "    rubberband.attr('style', \"position: absolute; left: 0; top: 0; z-index: 1;\")\n",
       "\n",
       "    var pass_mouse_events = true;\n",
       "\n",
       "    canvas_div.resizable({\n",
       "        start: function(event, ui) {\n",
       "            pass_mouse_events = false;\n",
       "        },\n",
       "        resize: function(event, ui) {\n",
       "            fig.request_resize(ui.size.width, ui.size.height);\n",
       "        },\n",
       "        stop: function(event, ui) {\n",
       "            pass_mouse_events = true;\n",
       "            fig.request_resize(ui.size.width, ui.size.height);\n",
       "        },\n",
       "    });\n",
       "\n",
       "    function mouse_event_fn(event) {\n",
       "        if (pass_mouse_events)\n",
       "            return fig.mouse_event(event, event['data']);\n",
       "    }\n",
       "\n",
       "    rubberband.mousedown('button_press', mouse_event_fn);\n",
       "    rubberband.mouseup('button_release', mouse_event_fn);\n",
       "    // Throttle sequential mouse events to 1 every 20ms.\n",
       "    rubberband.mousemove('motion_notify', mouse_event_fn);\n",
       "\n",
       "    rubberband.mouseenter('figure_enter', mouse_event_fn);\n",
       "    rubberband.mouseleave('figure_leave', mouse_event_fn);\n",
       "\n",
       "    canvas_div.on(\"wheel\", function (event) {\n",
       "        event = event.originalEvent;\n",
       "        event['data'] = 'scroll'\n",
       "        if (event.deltaY < 0) {\n",
       "            event.step = 1;\n",
       "        } else {\n",
       "            event.step = -1;\n",
       "        }\n",
       "        mouse_event_fn(event);\n",
       "    });\n",
       "\n",
       "    canvas_div.append(canvas);\n",
       "    canvas_div.append(rubberband);\n",
       "\n",
       "    this.rubberband = rubberband;\n",
       "    this.rubberband_canvas = rubberband[0];\n",
       "    this.rubberband_context = rubberband[0].getContext(\"2d\");\n",
       "    this.rubberband_context.strokeStyle = \"#000000\";\n",
       "\n",
       "    this._resize_canvas = function(width, height) {\n",
       "        // Keep the size of the canvas, canvas container, and rubber band\n",
       "        // canvas in synch.\n",
       "        canvas_div.css('width', width)\n",
       "        canvas_div.css('height', height)\n",
       "\n",
       "        canvas.attr('width', width * mpl.ratio);\n",
       "        canvas.attr('height', height * mpl.ratio);\n",
       "        canvas.attr('style', 'width: ' + width + 'px; height: ' + height + 'px;');\n",
       "\n",
       "        rubberband.attr('width', width);\n",
       "        rubberband.attr('height', height);\n",
       "    }\n",
       "\n",
       "    // Set the figure to an initial 600x600px, this will subsequently be updated\n",
       "    // upon first draw.\n",
       "    this._resize_canvas(600, 600);\n",
       "\n",
       "    // Disable right mouse context menu.\n",
       "    $(this.rubberband_canvas).bind(\"contextmenu\",function(e){\n",
       "        return false;\n",
       "    });\n",
       "\n",
       "    function set_focus () {\n",
       "        canvas.focus();\n",
       "        canvas_div.focus();\n",
       "    }\n",
       "\n",
       "    window.setTimeout(set_focus, 100);\n",
       "}\n",
       "\n",
       "mpl.figure.prototype._init_toolbar = function() {\n",
       "    var fig = this;\n",
       "\n",
       "    var nav_element = $('<div/>');\n",
       "    nav_element.attr('style', 'width: 100%');\n",
       "    this.root.append(nav_element);\n",
       "\n",
       "    // Define a callback function for later on.\n",
       "    function toolbar_event(event) {\n",
       "        return fig.toolbar_button_onclick(event['data']);\n",
       "    }\n",
       "    function toolbar_mouse_event(event) {\n",
       "        return fig.toolbar_button_onmouseover(event['data']);\n",
       "    }\n",
       "\n",
       "    for(var toolbar_ind in mpl.toolbar_items) {\n",
       "        var name = mpl.toolbar_items[toolbar_ind][0];\n",
       "        var tooltip = mpl.toolbar_items[toolbar_ind][1];\n",
       "        var image = mpl.toolbar_items[toolbar_ind][2];\n",
       "        var method_name = mpl.toolbar_items[toolbar_ind][3];\n",
       "\n",
       "        if (!name) {\n",
       "            // put a spacer in here.\n",
       "            continue;\n",
       "        }\n",
       "        var button = $('<button/>');\n",
       "        button.addClass('ui-button ui-widget ui-state-default ui-corner-all ' +\n",
       "                        'ui-button-icon-only');\n",
       "        button.attr('role', 'button');\n",
       "        button.attr('aria-disabled', 'false');\n",
       "        button.click(method_name, toolbar_event);\n",
       "        button.mouseover(tooltip, toolbar_mouse_event);\n",
       "\n",
       "        var icon_img = $('<span/>');\n",
       "        icon_img.addClass('ui-button-icon-primary ui-icon');\n",
       "        icon_img.addClass(image);\n",
       "        icon_img.addClass('ui-corner-all');\n",
       "\n",
       "        var tooltip_span = $('<span/>');\n",
       "        tooltip_span.addClass('ui-button-text');\n",
       "        tooltip_span.html(tooltip);\n",
       "\n",
       "        button.append(icon_img);\n",
       "        button.append(tooltip_span);\n",
       "\n",
       "        nav_element.append(button);\n",
       "    }\n",
       "\n",
       "    var fmt_picker_span = $('<span/>');\n",
       "\n",
       "    var fmt_picker = $('<select/>');\n",
       "    fmt_picker.addClass('mpl-toolbar-option ui-widget ui-widget-content');\n",
       "    fmt_picker_span.append(fmt_picker);\n",
       "    nav_element.append(fmt_picker_span);\n",
       "    this.format_dropdown = fmt_picker[0];\n",
       "\n",
       "    for (var ind in mpl.extensions) {\n",
       "        var fmt = mpl.extensions[ind];\n",
       "        var option = $(\n",
       "            '<option/>', {selected: fmt === mpl.default_extension}).html(fmt);\n",
       "        fmt_picker.append(option);\n",
       "    }\n",
       "\n",
       "    // Add hover states to the ui-buttons\n",
       "    $( \".ui-button\" ).hover(\n",
       "        function() { $(this).addClass(\"ui-state-hover\");},\n",
       "        function() { $(this).removeClass(\"ui-state-hover\");}\n",
       "    );\n",
       "\n",
       "    var status_bar = $('<span class=\"mpl-message\"/>');\n",
       "    nav_element.append(status_bar);\n",
       "    this.message = status_bar[0];\n",
       "}\n",
       "\n",
       "mpl.figure.prototype.request_resize = function(x_pixels, y_pixels) {\n",
       "    // Request matplotlib to resize the figure. Matplotlib will then trigger a resize in the client,\n",
       "    // which will in turn request a refresh of the image.\n",
       "    this.send_message('resize', {'width': x_pixels, 'height': y_pixels});\n",
       "}\n",
       "\n",
       "mpl.figure.prototype.send_message = function(type, properties) {\n",
       "    properties['type'] = type;\n",
       "    properties['figure_id'] = this.id;\n",
       "    this.ws.send(JSON.stringify(properties));\n",
       "}\n",
       "\n",
       "mpl.figure.prototype.send_draw_message = function() {\n",
       "    if (!this.waiting) {\n",
       "        this.waiting = true;\n",
       "        this.ws.send(JSON.stringify({type: \"draw\", figure_id: this.id}));\n",
       "    }\n",
       "}\n",
       "\n",
       "\n",
       "mpl.figure.prototype.handle_save = function(fig, msg) {\n",
       "    var format_dropdown = fig.format_dropdown;\n",
       "    var format = format_dropdown.options[format_dropdown.selectedIndex].value;\n",
       "    fig.ondownload(fig, format);\n",
       "}\n",
       "\n",
       "\n",
       "mpl.figure.prototype.handle_resize = function(fig, msg) {\n",
       "    var size = msg['size'];\n",
       "    if (size[0] != fig.canvas.width || size[1] != fig.canvas.height) {\n",
       "        fig._resize_canvas(size[0], size[1]);\n",
       "        fig.send_message(\"refresh\", {});\n",
       "    };\n",
       "}\n",
       "\n",
       "mpl.figure.prototype.handle_rubberband = function(fig, msg) {\n",
       "    var x0 = msg['x0'] / mpl.ratio;\n",
       "    var y0 = (fig.canvas.height - msg['y0']) / mpl.ratio;\n",
       "    var x1 = msg['x1'] / mpl.ratio;\n",
       "    var y1 = (fig.canvas.height - msg['y1']) / mpl.ratio;\n",
       "    x0 = Math.floor(x0) + 0.5;\n",
       "    y0 = Math.floor(y0) + 0.5;\n",
       "    x1 = Math.floor(x1) + 0.5;\n",
       "    y1 = Math.floor(y1) + 0.5;\n",
       "    var min_x = Math.min(x0, x1);\n",
       "    var min_y = Math.min(y0, y1);\n",
       "    var width = Math.abs(x1 - x0);\n",
       "    var height = Math.abs(y1 - y0);\n",
       "\n",
       "    fig.rubberband_context.clearRect(\n",
       "        0, 0, fig.canvas.width / mpl.ratio, fig.canvas.height / mpl.ratio);\n",
       "\n",
       "    fig.rubberband_context.strokeRect(min_x, min_y, width, height);\n",
       "}\n",
       "\n",
       "mpl.figure.prototype.handle_figure_label = function(fig, msg) {\n",
       "    // Updates the figure title.\n",
       "    fig.header.textContent = msg['label'];\n",
       "}\n",
       "\n",
       "mpl.figure.prototype.handle_cursor = function(fig, msg) {\n",
       "    var cursor = msg['cursor'];\n",
       "    switch(cursor)\n",
       "    {\n",
       "    case 0:\n",
       "        cursor = 'pointer';\n",
       "        break;\n",
       "    case 1:\n",
       "        cursor = 'default';\n",
       "        break;\n",
       "    case 2:\n",
       "        cursor = 'crosshair';\n",
       "        break;\n",
       "    case 3:\n",
       "        cursor = 'move';\n",
       "        break;\n",
       "    }\n",
       "    fig.rubberband_canvas.style.cursor = cursor;\n",
       "}\n",
       "\n",
       "mpl.figure.prototype.handle_message = function(fig, msg) {\n",
       "    fig.message.textContent = msg['message'];\n",
       "}\n",
       "\n",
       "mpl.figure.prototype.handle_draw = function(fig, msg) {\n",
       "    // Request the server to send over a new figure.\n",
       "    fig.send_draw_message();\n",
       "}\n",
       "\n",
       "mpl.figure.prototype.handle_image_mode = function(fig, msg) {\n",
       "    fig.image_mode = msg['mode'];\n",
       "}\n",
       "\n",
       "mpl.figure.prototype.updated_canvas_event = function() {\n",
       "    // Called whenever the canvas gets updated.\n",
       "    this.send_message(\"ack\", {});\n",
       "}\n",
       "\n",
       "// A function to construct a web socket function for onmessage handling.\n",
       "// Called in the figure constructor.\n",
       "mpl.figure.prototype._make_on_message_function = function(fig) {\n",
       "    return function socket_on_message(evt) {\n",
       "        if (evt.data instanceof Blob) {\n",
       "            /* FIXME: We get \"Resource interpreted as Image but\n",
       "             * transferred with MIME type text/plain:\" errors on\n",
       "             * Chrome.  But how to set the MIME type?  It doesn't seem\n",
       "             * to be part of the websocket stream */\n",
       "            evt.data.type = \"image/png\";\n",
       "\n",
       "            /* Free the memory for the previous frames */\n",
       "            if (fig.imageObj.src) {\n",
       "                (window.URL || window.webkitURL).revokeObjectURL(\n",
       "                    fig.imageObj.src);\n",
       "            }\n",
       "\n",
       "            fig.imageObj.src = (window.URL || window.webkitURL).createObjectURL(\n",
       "                evt.data);\n",
       "            fig.updated_canvas_event();\n",
       "            fig.waiting = false;\n",
       "            return;\n",
       "        }\n",
       "        else if (typeof evt.data === 'string' && evt.data.slice(0, 21) == \"data:image/png;base64\") {\n",
       "            fig.imageObj.src = evt.data;\n",
       "            fig.updated_canvas_event();\n",
       "            fig.waiting = false;\n",
       "            return;\n",
       "        }\n",
       "\n",
       "        var msg = JSON.parse(evt.data);\n",
       "        var msg_type = msg['type'];\n",
       "\n",
       "        // Call the  \"handle_{type}\" callback, which takes\n",
       "        // the figure and JSON message as its only arguments.\n",
       "        try {\n",
       "            var callback = fig[\"handle_\" + msg_type];\n",
       "        } catch (e) {\n",
       "            console.log(\"No handler for the '\" + msg_type + \"' message type: \", msg);\n",
       "            return;\n",
       "        }\n",
       "\n",
       "        if (callback) {\n",
       "            try {\n",
       "                // console.log(\"Handling '\" + msg_type + \"' message: \", msg);\n",
       "                callback(fig, msg);\n",
       "            } catch (e) {\n",
       "                console.log(\"Exception inside the 'handler_\" + msg_type + \"' callback:\", e, e.stack, msg);\n",
       "            }\n",
       "        }\n",
       "    };\n",
       "}\n",
       "\n",
       "// from http://stackoverflow.com/questions/1114465/getting-mouse-location-in-canvas\n",
       "mpl.findpos = function(e) {\n",
       "    //this section is from http://www.quirksmode.org/js/events_properties.html\n",
       "    var targ;\n",
       "    if (!e)\n",
       "        e = window.event;\n",
       "    if (e.target)\n",
       "        targ = e.target;\n",
       "    else if (e.srcElement)\n",
       "        targ = e.srcElement;\n",
       "    if (targ.nodeType == 3) // defeat Safari bug\n",
       "        targ = targ.parentNode;\n",
       "\n",
       "    // jQuery normalizes the pageX and pageY\n",
       "    // pageX,Y are the mouse positions relative to the document\n",
       "    // offset() returns the position of the element relative to the document\n",
       "    var x = e.pageX - $(targ).offset().left;\n",
       "    var y = e.pageY - $(targ).offset().top;\n",
       "\n",
       "    return {\"x\": x, \"y\": y};\n",
       "};\n",
       "\n",
       "/*\n",
       " * return a copy of an object with only non-object keys\n",
       " * we need this to avoid circular references\n",
       " * http://stackoverflow.com/a/24161582/3208463\n",
       " */\n",
       "function simpleKeys (original) {\n",
       "  return Object.keys(original).reduce(function (obj, key) {\n",
       "    if (typeof original[key] !== 'object')\n",
       "        obj[key] = original[key]\n",
       "    return obj;\n",
       "  }, {});\n",
       "}\n",
       "\n",
       "mpl.figure.prototype.mouse_event = function(event, name) {\n",
       "    var canvas_pos = mpl.findpos(event)\n",
       "\n",
       "    if (name === 'button_press')\n",
       "    {\n",
       "        this.canvas.focus();\n",
       "        this.canvas_div.focus();\n",
       "    }\n",
       "\n",
       "    var x = canvas_pos.x * mpl.ratio;\n",
       "    var y = canvas_pos.y * mpl.ratio;\n",
       "\n",
       "    this.send_message(name, {x: x, y: y, button: event.button,\n",
       "                             step: event.step,\n",
       "                             guiEvent: simpleKeys(event)});\n",
       "\n",
       "    /* This prevents the web browser from automatically changing to\n",
       "     * the text insertion cursor when the button is pressed.  We want\n",
       "     * to control all of the cursor setting manually through the\n",
       "     * 'cursor' event from matplotlib */\n",
       "    event.preventDefault();\n",
       "    return false;\n",
       "}\n",
       "\n",
       "mpl.figure.prototype._key_event_extra = function(event, name) {\n",
       "    // Handle any extra behaviour associated with a key event\n",
       "}\n",
       "\n",
       "mpl.figure.prototype.key_event = function(event, name) {\n",
       "\n",
       "    // Prevent repeat events\n",
       "    if (name == 'key_press')\n",
       "    {\n",
       "        if (event.which === this._key)\n",
       "            return;\n",
       "        else\n",
       "            this._key = event.which;\n",
       "    }\n",
       "    if (name == 'key_release')\n",
       "        this._key = null;\n",
       "\n",
       "    var value = '';\n",
       "    if (event.ctrlKey && event.which != 17)\n",
       "        value += \"ctrl+\";\n",
       "    if (event.altKey && event.which != 18)\n",
       "        value += \"alt+\";\n",
       "    if (event.shiftKey && event.which != 16)\n",
       "        value += \"shift+\";\n",
       "\n",
       "    value += 'k';\n",
       "    value += event.which.toString();\n",
       "\n",
       "    this._key_event_extra(event, name);\n",
       "\n",
       "    this.send_message(name, {key: value,\n",
       "                             guiEvent: simpleKeys(event)});\n",
       "    return false;\n",
       "}\n",
       "\n",
       "mpl.figure.prototype.toolbar_button_onclick = function(name) {\n",
       "    if (name == 'download') {\n",
       "        this.handle_save(this, null);\n",
       "    } else {\n",
       "        this.send_message(\"toolbar_button\", {name: name});\n",
       "    }\n",
       "};\n",
       "\n",
       "mpl.figure.prototype.toolbar_button_onmouseover = function(tooltip) {\n",
       "    this.message.textContent = tooltip;\n",
       "};\n",
       "mpl.toolbar_items = [[\"Home\", \"Reset original view\", \"fa fa-home icon-home\", \"home\"], [\"Back\", \"Back to previous view\", \"fa fa-arrow-left icon-arrow-left\", \"back\"], [\"Forward\", \"Forward to next view\", \"fa fa-arrow-right icon-arrow-right\", \"forward\"], [\"\", \"\", \"\", \"\"], [\"Pan\", \"Pan axes with left mouse, zoom with right\", \"fa fa-arrows icon-move\", \"pan\"], [\"Zoom\", \"Zoom to rectangle\", \"fa fa-square-o icon-check-empty\", \"zoom\"], [\"\", \"\", \"\", \"\"], [\"Download\", \"Download plot\", \"fa fa-floppy-o icon-save\", \"download\"]];\n",
       "\n",
       "mpl.extensions = [\"eps\", \"jpeg\", \"pdf\", \"png\", \"ps\", \"raw\", \"svg\", \"tif\"];\n",
       "\n",
       "mpl.default_extension = \"png\";var comm_websocket_adapter = function(comm) {\n",
       "    // Create a \"websocket\"-like object which calls the given IPython comm\n",
       "    // object with the appropriate methods. Currently this is a non binary\n",
       "    // socket, so there is still some room for performance tuning.\n",
       "    var ws = {};\n",
       "\n",
       "    ws.close = function() {\n",
       "        comm.close()\n",
       "    };\n",
       "    ws.send = function(m) {\n",
       "        //console.log('sending', m);\n",
       "        comm.send(m);\n",
       "    };\n",
       "    // Register the callback with on_msg.\n",
       "    comm.on_msg(function(msg) {\n",
       "        //console.log('receiving', msg['content']['data'], msg);\n",
       "        // Pass the mpl event to the overridden (by mpl) onmessage function.\n",
       "        ws.onmessage(msg['content']['data'])\n",
       "    });\n",
       "    return ws;\n",
       "}\n",
       "\n",
       "mpl.mpl_figure_comm = function(comm, msg) {\n",
       "    // This is the function which gets called when the mpl process\n",
       "    // starts-up an IPython Comm through the \"matplotlib\" channel.\n",
       "\n",
       "    var id = msg.content.data.id;\n",
       "    // Get hold of the div created by the display call when the Comm\n",
       "    // socket was opened in Python.\n",
       "    var element = $(\"#\" + id);\n",
       "    var ws_proxy = comm_websocket_adapter(comm)\n",
       "\n",
       "    function ondownload(figure, format) {\n",
       "        window.open(figure.imageObj.src);\n",
       "    }\n",
       "\n",
       "    var fig = new mpl.figure(id, ws_proxy,\n",
       "                           ondownload,\n",
       "                           element.get(0));\n",
       "\n",
       "    // Call onopen now - mpl needs it, as it is assuming we've passed it a real\n",
       "    // web socket which is closed, not our websocket->open comm proxy.\n",
       "    ws_proxy.onopen();\n",
       "\n",
       "    fig.parent_element = element.get(0);\n",
       "    fig.cell_info = mpl.find_output_cell(\"<div id='\" + id + \"'></div>\");\n",
       "    if (!fig.cell_info) {\n",
       "        console.error(\"Failed to find cell for figure\", id, fig);\n",
       "        return;\n",
       "    }\n",
       "\n",
       "    var output_index = fig.cell_info[2]\n",
       "    var cell = fig.cell_info[0];\n",
       "\n",
       "};\n",
       "\n",
       "mpl.figure.prototype.handle_close = function(fig, msg) {\n",
       "    var width = fig.canvas.width/mpl.ratio\n",
       "    fig.root.unbind('remove')\n",
       "\n",
       "    // Update the output cell to use the data from the current canvas.\n",
       "    fig.push_to_output();\n",
       "    var dataURL = fig.canvas.toDataURL();\n",
       "    // Re-enable the keyboard manager in IPython - without this line, in FF,\n",
       "    // the notebook keyboard shortcuts fail.\n",
       "    IPython.keyboard_manager.enable()\n",
       "    $(fig.parent_element).html('<img src=\"' + dataURL + '\" width=\"' + width + '\">');\n",
       "    fig.close_ws(fig, msg);\n",
       "}\n",
       "\n",
       "mpl.figure.prototype.close_ws = function(fig, msg){\n",
       "    fig.send_message('closing', msg);\n",
       "    // fig.ws.close()\n",
       "}\n",
       "\n",
       "mpl.figure.prototype.push_to_output = function(remove_interactive) {\n",
       "    // Turn the data on the canvas into data in the output cell.\n",
       "    var width = this.canvas.width/mpl.ratio\n",
       "    var dataURL = this.canvas.toDataURL();\n",
       "    this.cell_info[1]['text/html'] = '<img src=\"' + dataURL + '\" width=\"' + width + '\">';\n",
       "}\n",
       "\n",
       "mpl.figure.prototype.updated_canvas_event = function() {\n",
       "    // Tell IPython that the notebook contents must change.\n",
       "    IPython.notebook.set_dirty(true);\n",
       "    this.send_message(\"ack\", {});\n",
       "    var fig = this;\n",
       "    // Wait a second, then push the new image to the DOM so\n",
       "    // that it is saved nicely (might be nice to debounce this).\n",
       "    setTimeout(function () { fig.push_to_output() }, 1000);\n",
       "}\n",
       "\n",
       "mpl.figure.prototype._init_toolbar = function() {\n",
       "    var fig = this;\n",
       "\n",
       "    var nav_element = $('<div/>');\n",
       "    nav_element.attr('style', 'width: 100%');\n",
       "    this.root.append(nav_element);\n",
       "\n",
       "    // Define a callback function for later on.\n",
       "    function toolbar_event(event) {\n",
       "        return fig.toolbar_button_onclick(event['data']);\n",
       "    }\n",
       "    function toolbar_mouse_event(event) {\n",
       "        return fig.toolbar_button_onmouseover(event['data']);\n",
       "    }\n",
       "\n",
       "    for(var toolbar_ind in mpl.toolbar_items){\n",
       "        var name = mpl.toolbar_items[toolbar_ind][0];\n",
       "        var tooltip = mpl.toolbar_items[toolbar_ind][1];\n",
       "        var image = mpl.toolbar_items[toolbar_ind][2];\n",
       "        var method_name = mpl.toolbar_items[toolbar_ind][3];\n",
       "\n",
       "        if (!name) { continue; };\n",
       "\n",
       "        var button = $('<button class=\"btn btn-default\" href=\"#\" title=\"' + name + '\"><i class=\"fa ' + image + ' fa-lg\"></i></button>');\n",
       "        button.click(method_name, toolbar_event);\n",
       "        button.mouseover(tooltip, toolbar_mouse_event);\n",
       "        nav_element.append(button);\n",
       "    }\n",
       "\n",
       "    // Add the status bar.\n",
       "    var status_bar = $('<span class=\"mpl-message\" style=\"text-align:right; float: right;\"/>');\n",
       "    nav_element.append(status_bar);\n",
       "    this.message = status_bar[0];\n",
       "\n",
       "    // Add the close button to the window.\n",
       "    var buttongrp = $('<div class=\"btn-group inline pull-right\"></div>');\n",
       "    var button = $('<button class=\"btn btn-mini btn-primary\" href=\"#\" title=\"Stop Interaction\"><i class=\"fa fa-power-off icon-remove icon-large\"></i></button>');\n",
       "    button.click(function (evt) { fig.handle_close(fig, {}); } );\n",
       "    button.mouseover('Stop Interaction', toolbar_mouse_event);\n",
       "    buttongrp.append(button);\n",
       "    var titlebar = this.root.find($('.ui-dialog-titlebar'));\n",
       "    titlebar.prepend(buttongrp);\n",
       "}\n",
       "\n",
       "mpl.figure.prototype._root_extra_style = function(el){\n",
       "    var fig = this\n",
       "    el.on(\"remove\", function(){\n",
       "\tfig.close_ws(fig, {});\n",
       "    });\n",
       "}\n",
       "\n",
       "mpl.figure.prototype._canvas_extra_style = function(el){\n",
       "    // this is important to make the div 'focusable\n",
       "    el.attr('tabindex', 0)\n",
       "    // reach out to IPython and tell the keyboard manager to turn it's self\n",
       "    // off when our div gets focus\n",
       "\n",
       "    // location in version 3\n",
       "    if (IPython.notebook.keyboard_manager) {\n",
       "        IPython.notebook.keyboard_manager.register_events(el);\n",
       "    }\n",
       "    else {\n",
       "        // location in version 2\n",
       "        IPython.keyboard_manager.register_events(el);\n",
       "    }\n",
       "\n",
       "}\n",
       "\n",
       "mpl.figure.prototype._key_event_extra = function(event, name) {\n",
       "    var manager = IPython.notebook.keyboard_manager;\n",
       "    if (!manager)\n",
       "        manager = IPython.keyboard_manager;\n",
       "\n",
       "    // Check for shift+enter\n",
       "    if (event.shiftKey && event.which == 13) {\n",
       "        this.canvas_div.blur();\n",
       "        // select the cell after this one\n",
       "        var index = IPython.notebook.find_cell_index(this.cell_info[0]);\n",
       "        IPython.notebook.select(index + 1);\n",
       "    }\n",
       "}\n",
       "\n",
       "mpl.figure.prototype.handle_save = function(fig, msg) {\n",
       "    fig.ondownload(fig, null);\n",
       "}\n",
       "\n",
       "\n",
       "mpl.find_output_cell = function(html_output) {\n",
       "    // Return the cell and output element which can be found *uniquely* in the notebook.\n",
       "    // Note - this is a bit hacky, but it is done because the \"notebook_saving.Notebook\"\n",
       "    // IPython event is triggered only after the cells have been serialised, which for\n",
       "    // our purposes (turning an active figure into a static one), is too late.\n",
       "    var cells = IPython.notebook.get_cells();\n",
       "    var ncells = cells.length;\n",
       "    for (var i=0; i<ncells; i++) {\n",
       "        var cell = cells[i];\n",
       "        if (cell.cell_type === 'code'){\n",
       "            for (var j=0; j<cell.output_area.outputs.length; j++) {\n",
       "                var data = cell.output_area.outputs[j];\n",
       "                if (data.data) {\n",
       "                    // IPython >= 3 moved mimebundle to data attribute of output\n",
       "                    data = data.data;\n",
       "                }\n",
       "                if (data['text/html'] == html_output) {\n",
       "                    return [cell, data, j];\n",
       "                }\n",
       "            }\n",
       "        }\n",
       "    }\n",
       "}\n",
       "\n",
       "// Register the function which deals with the matplotlib target/channel.\n",
       "// The kernel may be null if the page has been refreshed.\n",
       "if (IPython.notebook.kernel != null) {\n",
       "    IPython.notebook.kernel.comm_manager.register_target('matplotlib', mpl.mpl_figure_comm);\n",
       "}\n"
      ],
      "text/plain": [
       "<IPython.core.display.Javascript object>"
      ]
     },
     "metadata": {},
     "output_type": "display_data"
    },
    {
     "data": {
      "text/html": [
       "<img src=\"data:image/png;base64,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\" width=\"1199.999952316286\">"
      ],
      "text/plain": [
       "<IPython.core.display.HTML object>"
      ]
     },
     "metadata": {},
     "output_type": "display_data"
    }
   ],
   "source": [
    "depth = 1\n",
    "clf_2 = DecisionTreeClassifier(\n",
    "    max_depth = depth, max_leaf_nodes = 2**depth, random_state = 7021)\n",
    "clf_2.fit(X_train_2, y_train_2)\n",
    "fig = plt.figure(figsize = (12, 8))\n",
    "_ = plot_tree(\n",
    "    clf_2, filled = False, fontsize = 8, rounded = True, \n",
    "    feature_names = attributes[0:-1])\n",
    "fig.savefig('CART.png')"
   ]
  },
  {
   "cell_type": "code",
   "execution_count": 21,
   "metadata": {
    "scrolled": true
   },
   "outputs": [
    {
     "name": "stdout",
     "output_type": "stream",
     "text": [
      "|--- TB <= 0.02\n",
      "|   |--- class: 0.0\n",
      "|--- TB >  0.02\n",
      "|   |--- class: 0.0\n",
      "\n"
     ]
    }
   ],
   "source": [
    "print(export_text(clf_2, feature_names = attributes[0:-1]))"
   ]
  },
  {
   "cell_type": "code",
   "execution_count": 22,
   "metadata": {},
   "outputs": [],
   "source": [
    "children_left_2 = clf_2.tree_.children_left\n",
    "children_right_2 = clf_2.tree_.children_right\n",
    "feature_2 = clf_2.tree_.feature\n",
    "threshold_2 = clf_2.tree_.threshold"
   ]
  },
  {
   "cell_type": "code",
   "execution_count": 25,
   "metadata": {},
   "outputs": [],
   "source": [
    "def find_path(root, path, x, children_left, children_right):\n",
    "    path.append(root)\n",
    "    if root == x:\n",
    "        return True\n",
    "    left = False\n",
    "    right = False\n",
    "    if (children_left[root] != -1):\n",
    "        left = find_path(children_left[root], path, x, children_left, children_right)\n",
    "    if (children_right[root] != -1):\n",
    "        right = find_path(children_right[root], path, x, children_left, children_right)\n",
    "    if left or right:\n",
    "        return True\n",
    "    path.remove(root)\n",
    "    return False\n",
    "\n",
    "def get_rule(path, children_left, attributes, feature, threshold):\n",
    "    mask = ''\n",
    "    for idx, node in enumerate(path):\n",
    "        # filter out the leaf node\n",
    "        if idx != len(path) - 1:\n",
    "            # left or right branch node\n",
    "            if (children_left[node] == path[idx + 1]):\n",
    "                mask += \"('{}' <= {:.2f}) \\t \".format(\n",
    "                    attributes[feature[node]], threshold[node])\n",
    "            else:\n",
    "                mask += \"('{}' > {:.2f}) \\t \".format(\n",
    "                    attributes[feature[node]], threshold[node])\n",
    "    mask = mask.replace(\"\\t\", \"&\", mask.count(\"\\t\") - 1)\n",
    "    mask = mask.replace(\"\\t\", \"\").strip()\n",
    "    return mask"
   ]
  },
  {
   "cell_type": "code",
   "execution_count": 26,
   "metadata": {},
   "outputs": [],
   "source": [
    "leaf_id = np.unique(clf_2.apply(X_train_2))\n",
    "\n",
    "paths = {}\n",
    "for leaf in leaf_id:\n",
    "    path_leaf = []\n",
    "    find_path(0, path_leaf, leaf, children_left_2, children_right_2)\n",
    "    paths[leaf] = path_leaf\n",
    "\n",
    "CART_rules = {}\n",
    "for leaf in paths:\n",
    "    CART_rules[leaf] = get_rule(paths[leaf], children_left_2, attributes[0:-1], feature_2, threshold_2)"
   ]
  },
  {
   "cell_type": "code",
   "execution_count": 27,
   "metadata": {
    "scrolled": true
   },
   "outputs": [
    {
     "data": {
      "text/plain": [
       "array([1, 2], dtype=int64)"
      ]
     },
     "execution_count": 27,
     "metadata": {},
     "output_type": "execute_result"
    }
   ],
   "source": [
    "leaf_id"
   ]
  },
  {
   "cell_type": "code",
   "execution_count": 28,
   "metadata": {
    "scrolled": false
   },
   "outputs": [
    {
     "data": {
      "text/plain": [
       "{1: \"('TB' <= 0.02)\", 2: \"('TB' > 0.02)\"}"
      ]
     },
     "execution_count": 28,
     "metadata": {},
     "output_type": "execute_result"
    }
   ],
   "source": [
    "CART_rules"
   ]
  },
  {
   "cell_type": "code",
   "execution_count": 29,
   "metadata": {},
   "outputs": [],
   "source": [
    "total_nodes_2 = clf_2.tree_.node_count\n",
    "leaf_nodes_2 = round(total_nodes_2 / 2)\n",
    "branch_nodes_2 = total_nodes_2 // 2"
   ]
  },
  {
   "cell_type": "code",
   "execution_count": 30,
   "metadata": {},
   "outputs": [
    {
     "data": {
      "text/plain": [
       "array([2], dtype=int64)"
      ]
     },
     "execution_count": 30,
     "metadata": {},
     "output_type": "execute_result"
    }
   ],
   "source": [
    "initial_a = np.array([i for i in clf_2.tree_.feature if i != -2])\n",
    "initial_a"
   ]
  },
  {
   "cell_type": "code",
   "execution_count": 31,
   "metadata": {},
   "outputs": [
    {
     "data": {
      "text/plain": [
       "array([0.022])"
      ]
     },
     "execution_count": 31,
     "metadata": {},
     "output_type": "execute_result"
    }
   ],
   "source": [
    "initial_b = np.array([i for i in clf_2.tree_.threshold if i != -2])\n",
    "initial_b"
   ]
  },
  {
   "cell_type": "code",
   "execution_count": 34,
   "metadata": {
    "scrolled": true
   },
   "outputs": [
    {
     "data": {
      "text/plain": [
       "0.7162471395881007"
      ]
     },
     "execution_count": 34,
     "metadata": {},
     "output_type": "execute_result"
    }
   ],
   "source": [
    "clf_2.score(X_train_2, y_train_2)"
   ]
  },
  {
   "cell_type": "code",
   "execution_count": 33,
   "metadata": {},
   "outputs": [
    {
     "data": {
      "text/plain": [
       "0.7054794520547946"
      ]
     },
     "execution_count": 33,
     "metadata": {},
     "output_type": "execute_result"
    }
   ],
   "source": [
    "clf_2.score(X_test_2, y_test_2)"
   ]
  },
  {
   "cell_type": "markdown",
   "metadata": {},
   "source": [
    "### Rules and performance of CART"
   ]
  },
  {
   "cell_type": "code",
   "execution_count": 36,
   "metadata": {},
   "outputs": [
    {
     "name": "stdout",
     "output_type": "stream",
     "text": [
      "The decision rules in CART is  {1: \"('TB' <= 0.02)\", 2: \"('TB' > 0.02)\"}\n",
      "\n",
      "The in-sample performance in CART is 0.7162471395881007\n",
      "\n",
      "The out-of-sample performance in CART is 0.7054794520547946\n"
     ]
    }
   ],
   "source": [
    "print('The decision rules in CART is ', CART_rules)\n",
    "print('\\nThe in-sample performance in CART is', clf_2.score(X_train_2, y_train_2))\n",
    "print('\\nThe out-of-sample performance in CART is', clf_2.score(X_test_2, y_test_2))"
   ]
  },
  {
   "cell_type": "markdown",
   "metadata": {},
   "source": [
    "## OCT"
   ]
  },
  {
   "cell_type": "markdown",
   "metadata": {},
   "source": [
    "Based on the structure of CART, the depth of OCT is also 1.\n",
    "\n",
    "After respectively testing on alpha = 0.3, 0.5, 0.6 and epsilon = 0.1, 0.01, 0.0001, 10e-7, 10e-8, I find that the best accuracy is based on alpha = 0.5 and epsilon = 0.1."
   ]
  },
  {
   "cell_type": "code",
   "execution_count": 38,
   "metadata": {},
   "outputs": [
    {
     "data": {
      "text/plain": [
       "(437, 2)"
      ]
     },
     "execution_count": 38,
     "metadata": {},
     "output_type": "execute_result"
    }
   ],
   "source": [
    "alpha = 0.5\n",
    "K = 2\n",
    "Y_2 = np.zeros([N_2, K], dtype = int) - 1\n",
    "Y_2[X_train_2.index, y_train_2.astype(int)] = 1\n",
    "Y_2.shape"
   ]
  },
  {
   "cell_type": "code",
   "execution_count": 40,
   "metadata": {},
   "outputs": [
    {
     "name": "stdout",
     "output_type": "stream",
     "text": [
      "Using license file C:\\Users\\Ke Xu\\gurobi.lic\n",
      "Academic license - for non-commercial use only - expires 2021-02-09\n"
     ]
    }
   ],
   "source": [
    "import os\n",
    "os.add_dll_directory(os.path.join(os.getenv('GUROBI_HOME'), 'bin'))\n",
    "\n",
    "from gurobipy import *\n",
    "model = Model('mip1')\n",
    "\n",
    "# declare decision variables\n",
    "\n",
    "# d: [# branch nodes], whether a branch node applies a split or not\n",
    "d = model.addVars(branch_nodes_2 ,vtype = GRB.BINARY, name = \"d\") # ∈ {0, 1}\n",
    "# split criterion: ax < b / ax >== b\n",
    "# a: [# branch nodes, p], b: [# branch nodes]\n",
    "a = model.addVars(branch_nodes_2, P_2, vtype = GRB.BINARY, name = 'a') # ∈ {0, 1}\n",
    "b = model.addVars(branch_nodes_2 ,vtype = GRB.CONTINUOUS, name = \"b\")\n",
    "\n",
    "# l: [# leaf nodes], whether a leaf node contains any points or not\n",
    "l = model.addVars(leaf_nodes_2, vtype = GRB.BINARY, name = \"l\") # ∈ {0, 1}\n",
    "# z: [# points, # branch nodes], a point is assigned to which leaf node\n",
    "z = model.addVars(N_2, leaf_nodes_2, vtype = GRB.BINARY, name = \"z\") # ∈ {0, 1}\n",
    "\n",
    "# N_kt: [# labels, # leaf nodes], number of points labelled for class k in a leaf node\n",
    "N_kt = model.addVars(K, leaf_nodes_2, vtype = GRB.INTEGER, name = \"N_kt\")\n",
    "# N_t: [# leaf nodes], number of points in the leaf\n",
    "N_t = model.addVars(leaf_nodes_2, vtype = GRB.INTEGER, name = \"N_t\")\n",
    "\n",
    "# c_kt: [# labels, # leaf nodes], whether predicted label is label k for a leaf node\n",
    "c_kt = model.addVars(K, leaf_nodes_2, vtype = GRB.BINARY, name = \"c\") # ∈ {0, 1}\n",
    "# L: [# leaf nodes], misclassification loss for a leaf node\n",
    "L = model.addVars(leaf_nodes_2, vtype = GRB.INTEGER, name = \"L\")"
   ]
  },
  {
   "cell_type": "code",
   "execution_count": 41,
   "metadata": {},
   "outputs": [],
   "source": [
    "# warm start using the results of CART algorithm\n",
    "for t in range(branch_nodes_2):\n",
    "    a[t, initial_a[t]].start = 1\n",
    "    b[t].start = initial_b[t]\n",
    "\n",
    "model.update()"
   ]
  },
  {
   "cell_type": "code",
   "execution_count": 42,
   "metadata": {},
   "outputs": [
    {
     "data": {
      "text/plain": [
       "0.7162471395881007"
      ]
     },
     "execution_count": 42,
     "metadata": {},
     "output_type": "execute_result"
    }
   ],
   "source": [
    "# baseline accuracy by predicting the dominant label for the whole dataset\n",
    "L_hat = y_train_2.value_counts().max()/y_train_2.shape[0]\n",
    "L_hat"
   ]
  },
  {
   "cell_type": "code",
   "execution_count": 43,
   "metadata": {},
   "outputs": [],
   "source": [
    "# declare the objective\n",
    "model.setObjective(L.sum()/L_hat + alpha * d.sum(), GRB.MINIMIZE)"
   ]
  },
  {
   "cell_type": "code",
   "execution_count": 44,
   "metadata": {},
   "outputs": [],
   "source": [
    "def get_parent(i, depth = 2):\n",
    "    assert i > 0, \"No parent for Root\"\n",
    "    assert i <= 2 ** (depth + 1) - 1, \"Error! Total: {0}; i: {1}\".format(\n",
    "        2 ** (depth + 1) - 1, i)\n",
    "    return int((i - 1)/2)\n",
    "# constraint set 1 \n",
    "for t in range(branch_nodes_2):\n",
    "    model.addConstr(a.sum(t, '*') == d[t]) # sum(a_tj for j in P) = d_t\n",
    "    b[t].setAttr(GRB.Attr.LB, 0) # b_t >= 0\n",
    "    model.addConstr(b[t] <= d[t]) # b_t <= d_t\n",
    "    model.addConstr(d[t] == 1) # d_t = 1 (assume all the branch applies a split)\n",
    "\n",
    "# constraint set 2\n",
    "for t in range(1, branch_nodes_2): # exception: root\n",
    "    model.addConstr(d[t] <= d[get_parent(t)]) # d_t <= d_p(t)\n"
   ]
  },
  {
   "cell_type": "code",
   "execution_count": 45,
   "metadata": {},
   "outputs": [],
   "source": [
    "# constraint set 3\n",
    "for i in range(N_2):\n",
    "    model.addConstr(z.sum(i, '*') == 1) # sum(z_it for t in T_L)\n",
    "\n",
    "# constraint set 4\n",
    "N_min = 1\n",
    "for t in range(leaf_nodes_2):\n",
    "    model.addConstr(l[t] == 1) # l_t == 1 (assume leaf contains points)\n",
    "    for i in range(N_2):\n",
    "        model.addConstr(z[i, t] <= l[t]) # z_it <= l_t\n",
    "    model.addConstr(z.sum('*', t) >= N_min * l[t]) # sum(z_it for i in N) >= N_min * l_t"
   ]
  },
  {
   "cell_type": "code",
   "execution_count": 52,
   "metadata": {},
   "outputs": [
    {
     "data": {
      "text/plain": [
       "{0: [0]}"
      ]
     },
     "execution_count": 52,
     "metadata": {},
     "output_type": "execute_result"
    }
   ],
   "source": [
    "depth = 1\n",
    "all_branch_nodes = list(reversed(range(branch_nodes_2)))\n",
    "depth_dict = {}\n",
    "for i in range(depth):\n",
    "    depth_dict[i] = sorted(all_branch_nodes[-2**i:])\n",
    "    for j in range(2**i):\n",
    "        all_branch_nodes.pop()\n",
    "depth_dict"
   ]
  },
  {
   "cell_type": "code",
   "execution_count": 53,
   "metadata": {},
   "outputs": [
    {
     "data": {
      "text/plain": [
       "{0: [0, 1]}"
      ]
     },
     "execution_count": 53,
     "metadata": {},
     "output_type": "execute_result"
    }
   ],
   "source": [
    "all_leaf_nodes = list(range(leaf_nodes_2))\n",
    "branch_dict = {}\n",
    "for i in range(branch_nodes_2):\n",
    "    for k in range(depth):\n",
    "        if i in depth_dict[k]:\n",
    "            floor_len = len(depth_dict[k])\n",
    "            step = 2**depth // floor_len\n",
    "            sliced_leaf = [all_leaf_nodes[i:i+step] for i in range(0, 2**depth, step)]\n",
    "            idx = depth_dict[k].index(i)\n",
    "            branch_dict[i] = sliced_leaf[idx]\n",
    "        else:\n",
    "            continue\n",
    "branch_dict"
   ]
  },
  {
   "cell_type": "code",
   "execution_count": 54,
   "metadata": {},
   "outputs": [],
   "source": [
    "epsilon = 0.1\n",
    "# constraint set 5\n",
    "for i in range(N_2):\n",
    "    for tl in range(leaf_nodes_2):\n",
    "        for tb in range(branch_nodes_2):\n",
    "            if tl in branch_dict[tb]:\n",
    "                length = len(branch_dict[tb])\n",
    "                idx = branch_dict[tb].index(tl)\n",
    "                # left-branch ancestors: \n",
    "                # np.dot(a_m.T, (x_i + mu))<= b_m + (1 + mu)(1- z_it)\n",
    "                if idx+1 <= length//2:\n",
    "                    model.addConstr(\n",
    "                        sum(a.select(tb, '*') * X_train_2.iloc[i, :]) + epsilon \n",
    "                        <= b[tb] + (1 + epsilon) * (1 - z[i, tl]))\n",
    "                # right-branch ancestors: \n",
    "                # np.dot(a_m.T, x_i) >= b_m - (1- z_it)\n",
    "                elif idx+1 > length//2:\n",
    "                    model.addConstr(\n",
    "                        sum(a.select(tb, '*') * X_train_2.iloc[i, :]) \n",
    "                        >= b[tb] - (1 - z[i, tl]))\n",
    "            else:\n",
    "                continue"
   ]
  },
  {
   "cell_type": "code",
   "execution_count": 55,
   "metadata": {
    "scrolled": true
   },
   "outputs": [],
   "source": [
    "# constraint set 6, 7 & 8\n",
    "for t in range(leaf_nodes_2):\n",
    "    \n",
    "    # constraint set 8\n",
    "    model.addConstr(L[t] >= 0) # L_t >= 0\n",
    "    for k in range(K):\n",
    "        # L_t >= N_t - N_kt - n(1 - c_kt)\n",
    "        model.addConstr(L[t] >= N_t[t] - N_kt[k, t] - N_2 * (1 - c_kt[k, t])) \n",
    "        # L_t <= N_t - N_kt + n * c_kt\n",
    "        model.addConstr(L[t] <= N_t[t] - N_kt[k, t] + N_2 * c_kt[k, t]) \n",
    "        \n",
    "        # constraint set 6\n",
    "        # N_kt = 1/2 sum((1 + Y_ik)z_it for i in N)\n",
    "        model.addConstr(N_kt[k, t] == 1/2 * sum(z.select('*', t) * (Y_2[:, k] + 1))) \n",
    "    \n",
    "    model.addConstr(N_t[t] == z.sum('*', t)) # N_t = sum(z_it for i in n)\n",
    "    # constraint set 7\n",
    "    model.addConstr(c_kt.sum('*', t) == l[t]) # l_t = sum(c_kt for k in K)"
   ]
  },
  {
   "cell_type": "code",
   "execution_count": 56,
   "metadata": {
    "scrolled": true
   },
   "outputs": [
    {
     "name": "stdout",
     "output_type": "stream",
     "text": [
      "Changed value of parameter timelimit to 300.0\n",
      "   Prev: inf  Min: 0.0  Max: inf  Default: inf\n",
      "Gurobi Optimizer version 9.1.0 build v9.1.0rc0 (win64)\n",
      "Thread count: 4 physical cores, 8 logical processors, using up to 8 threads\n",
      "Optimize a model with 2210 rows, 900 columns and 15596 nonzeros\n",
      "Model fingerprint: 0x7cbb498e\n",
      "Variable types: 1 continuous, 899 integer (891 binary)\n",
      "Coefficient statistics:\n",
      "  Matrix range     [2e-03, 4e+02]\n",
      "  Objective range  [5e-01, 1e+00]\n",
      "  Bounds range     [1e+00, 1e+00]\n",
      "  RHS range        [1e+00, 4e+02]\n",
      "\n",
      "Warning: Completing partial solution with 898 unfixed non-continuous variables out of 899\n",
      "User MIP start did not produce a new incumbent solution\n",
      "\n",
      "Presolve removed 1324 rows and 447 columns\n",
      "Presolve time: 0.10s\n",
      "Presolved: 886 rows, 453 columns, 9022 nonzeros\n",
      "Variable types: 1 continuous, 452 integer (447 binary)\n",
      "Found heuristic solution: objective 173.6246006\n",
      "\n",
      "Root relaxation: objective 5.000000e-01, 10 iterations, 0.00 seconds\n",
      "Another try with MIP start\n",
      "\n",
      "    Nodes    |    Current Node    |     Objective Bounds      |     Work\n",
      " Expl Unexpl |  Obj  Depth IntInf | Incumbent    BestBd   Gap | It/Node Time\n",
      "\n",
      "     0     0    0.50000    0    3  173.62460    0.50000   100%     -    0s\n",
      "     0     0    0.50000    0  276  173.62460    0.50000   100%     -    0s\n",
      "     0     0    0.50000    0  242  173.62460    0.50000   100%     -    0s\n",
      "     0     0    0.50000    0  249  173.62460    0.50000   100%     -    1s\n",
      "     0     0    0.50000    0  249  173.62460    0.50000   100%     -    1s\n",
      "     0     2    0.50000    0  230  173.62460    0.50000   100%     -    1s\n",
      "\n",
      "Cutting planes:\n",
      "  Learned: 272\n",
      "  Gomory: 5\n",
      "  Cover: 157\n",
      "  Clique: 240\n",
      "  MIR: 132\n",
      "  StrongCG: 10\n",
      "  GUB cover: 59\n",
      "  Relax-and-lift: 1\n",
      "\n",
      "Explored 108 nodes (7484 simplex iterations) in 2.00 seconds\n",
      "Thread count was 8 (of 8 available processors)\n",
      "\n",
      "Solution count 1: 173.625 \n",
      "\n",
      "Optimal solution found (tolerance 1.00e-04)\n",
      "Best objective 1.736246006390e+02, best bound 1.736246006390e+02, gap 0.0000%\n"
     ]
    }
   ],
   "source": [
    "model.Params.timelimit = 60*5\n",
    "model.optimize()"
   ]
  },
  {
   "cell_type": "code",
   "execution_count": 57,
   "metadata": {},
   "outputs": [
    {
     "name": "stdout",
     "output_type": "stream",
     "text": [
      "Obj: 173.62460063897765\n"
     ]
    }
   ],
   "source": [
    "print('Obj:', model.objVal)"
   ]
  },
  {
   "cell_type": "code",
   "execution_count": 58,
   "metadata": {},
   "outputs": [],
   "source": [
    "coef_a = np.zeros([branch_nodes_2, P_2], dtype = int)\n",
    "coef_b = np.zeros(branch_nodes_2)\n",
    "for i in range(branch_nodes_2):\n",
    "    b = model.getVarByName('b' + '[' + str(i) + ']')\n",
    "    coef_b[i] = b.x\n",
    "    for j in range(P_2):\n",
    "        a = model.getVarByName('a' + '[' + str(i) + ',' + str (j) + ']')\n",
    "        coef_a[i, j] = int(a.x)\n",
    "        "
   ]
  },
  {
   "cell_type": "code",
   "execution_count": 59,
   "metadata": {},
   "outputs": [],
   "source": [
    "_ , a_idx = np.where(coef_a == 1)\n",
    "a_idx = a_idx.tolist()\n",
    "\n",
    "OCT_a = []\n",
    "for i in range(len(feature_2)):\n",
    "    if i in np.where(feature_2 == -2)[0]:\n",
    "        OCT_a.append(-2)\n",
    "    else:\n",
    "        OCT_a.append(a_idx[0])\n",
    "        a_idx.pop(0)\n",
    "\n",
    "OCT_b = []\n",
    "tmp_b = coef_b.tolist()\n",
    "for i in range(len(threshold_2)):\n",
    "    if i in np.where(threshold_2 == -2)[0]:\n",
    "        OCT_b.append(-2)\n",
    "    else:\n",
    "        OCT_b.append(round(tmp_b[0], 2))\n",
    "        tmp_b.pop(0)"
   ]
  },
  {
   "cell_type": "code",
   "execution_count": 60,
   "metadata": {},
   "outputs": [],
   "source": [
    "OCT_rules = {}\n",
    "for leaf in paths:\n",
    "    OCT_rules[leaf] = get_rule(\n",
    "        paths[leaf], children_left_2, attributes[0:-1], OCT_a, OCT_b)"
   ]
  },
  {
   "cell_type": "code",
   "execution_count": 61,
   "metadata": {},
   "outputs": [
    {
     "data": {
      "text/plain": [
       "{1: \"('A/G' <= 0.89)\", 2: \"('A/G' > 0.89)\"}"
      ]
     },
     "execution_count": 61,
     "metadata": {},
     "output_type": "execute_result"
    }
   ],
   "source": [
    "OCT_rules"
   ]
  },
  {
   "cell_type": "code",
   "execution_count": 62,
   "metadata": {},
   "outputs": [],
   "source": [
    "coef_c = np.zeros([K, leaf_nodes_2], dtype = int)\n",
    "\n",
    "for i in range(K):\n",
    "    for j in range(leaf_nodes_2):\n",
    "        c = model.getVarByName('c' + '[' + str(i) + ',' + str (j) + ']')\n",
    "        coef_c[i,j] = int(c.x)"
   ]
  },
  {
   "cell_type": "code",
   "execution_count": 63,
   "metadata": {},
   "outputs": [],
   "source": [
    "k_idx, t_idx = np.where(coef_c == 1)\n",
    "labels = np.zeros(leaf_nodes_2, dtype = int) - 1\n",
    "for i in range(len(k_idx)):\n",
    "    labels[t_idx[i]] = k_idx[i]"
   ]
  },
  {
   "cell_type": "code",
   "execution_count": 64,
   "metadata": {},
   "outputs": [],
   "source": [
    "y_hat = np.hstack([\n",
    "    np.reshape(y_train_2.values, (N_2, 1)), \n",
    "    np.zeros([N_2, 1], dtype = int)])"
   ]
  },
  {
   "cell_type": "code",
   "execution_count": 65,
   "metadata": {},
   "outputs": [
    {
     "data": {
      "text/plain": [
       "1"
      ]
     },
     "execution_count": 65,
     "metadata": {},
     "output_type": "execute_result"
    }
   ],
   "source": [
    "num_nodes = 0\n",
    "for i in range(branch_nodes_2): \n",
    "    d = model.getVarByName('d' + '[' + str(i) + ']')\n",
    "    num_nodes += int(d.x)\n",
    "num_nodes"
   ]
  },
  {
   "cell_type": "code",
   "execution_count": 77,
   "metadata": {},
   "outputs": [],
   "source": [
    "# initialize \n",
    "init = np.array([], dtype = int).reshape(0, P_2)\n",
    "nodes = {}\n",
    "for i in range(num_nodes * 2):\n",
    "    nodes[i] = init"
   ]
  },
  {
   "cell_type": "code",
   "execution_count": 78,
   "metadata": {
    "scrolled": false
   },
   "outputs": [
    {
     "data": {
      "text/plain": [
       "{0: array([], shape=(0, 10), dtype=int32),\n",
       " 1: array([], shape=(0, 10), dtype=int32)}"
      ]
     },
     "execution_count": 78,
     "metadata": {},
     "output_type": "execute_result"
    }
   ],
   "source": [
    "nodes"
   ]
  },
  {
   "cell_type": "code",
   "execution_count": 79,
   "metadata": {},
   "outputs": [],
   "source": [
    "# split\n",
    "for i in range(N_2):\n",
    "    if np.dot(coef_a[0,:], np.transpose(X_train_2.iloc[i,:])) <= coef_b[0]:\n",
    "        nodes[0] = np.vstack([X_train_2.iloc[i,:], nodes[0]])\n",
    "        \n",
    "#         if np.dot(coef_a[1,:], np.transpose(X_train_2.iloc[i,:])) <= coef_b[1]:\n",
    "#             nodes[2] = np.vstack([X_train_2.iloc[i,:], nodes[2]])\n",
    "#             y_hat[i,1] = labels[0]\n",
    "                \n",
    "#         elif np.dot(coef_a[1,:], np.transpose(X_train_2.iloc[i,:])) > coef_b[1]:\n",
    "#             nodes[3] = np.vstack([X_train_2.iloc[i,:], nodes[3]])\n",
    "        y_hat[i,1] = labels[0]\n",
    "            \n",
    "    elif np.dot(coef_a[0,:], np.transpose(X_train_2.iloc[i,:])) > coef_b[0]:\n",
    "        nodes[1] = np.vstack([X_train_2.iloc[i,:], nodes[1]])\n",
    "        \n",
    "#         if np.dot(coef_a[2,:], np.transpose(X_train_2.iloc[i,:])) <= coef_b[2]:\n",
    "#             nodes[4] = np.vstack([X_train_2.iloc[i,:], nodes[4]])\n",
    "#             y_hat[i,1] = labels[2]\n",
    "           \n",
    "#         elif np.dot(coef_a[2,:], np.transpose(X_train_2.iloc[i,:])) > coef_b[2]:\n",
    "#             nodes[5] = np.vstack([X_train_2.iloc[i,:], nodes[5]])\n",
    "        y_hat[i,1] = labels[1]"
   ]
  },
  {
   "cell_type": "code",
   "execution_count": 80,
   "metadata": {},
   "outputs": [],
   "source": [
    "performance_in = 1 - sum(np.abs(y_hat[:,1] - y_hat[:,0])) / N_2"
   ]
  },
  {
   "cell_type": "code",
   "execution_count": 81,
   "metadata": {
    "scrolled": false
   },
   "outputs": [
    {
     "name": "stdout",
     "output_type": "stream",
     "text": [
      "\n",
      "Node 7\n",
      "Predicted label: 0\n",
      "No. of obs.: 436\n",
      "\n",
      "Node 8\n",
      "Predicted label: 0\n",
      "No. of obs.: 1\n"
     ]
    }
   ],
   "source": [
    "for i in range(len(labels)):\n",
    "    print('\\nNode {}'.format(str(i+7)))\n",
    "    print('Predicted label: {}'.format(str(labels[i])))\n",
    "    print('No. of obs.: {}'.format(nodes[i].shape[0]))"
   ]
  },
  {
   "cell_type": "code",
   "execution_count": 82,
   "metadata": {},
   "outputs": [],
   "source": [
    "N_prime, P = X_test_2.shape"
   ]
  },
  {
   "cell_type": "code",
   "execution_count": 83,
   "metadata": {},
   "outputs": [],
   "source": [
    "y_predict = np.hstack([\n",
    "    np.reshape(y_test_2.values, (N_prime, 1)), \n",
    "    np.zeros([N_prime, 1], dtype = int)])"
   ]
  },
  {
   "cell_type": "code",
   "execution_count": 84,
   "metadata": {},
   "outputs": [
    {
     "name": "stdout",
     "output_type": "stream",
     "text": [
      "          age  gender_Male        TB        DB   Alkphos    Sgpt      Sgot  \\\n",
      "146  0.422222          0.0  0.009333  0.005076  0.072038  0.0450  0.004260   \n",
      "147  0.833333          1.0  0.018667  0.020305  0.101896  0.0250  0.006086   \n",
      "148  0.822222          1.0  0.013333  0.015228  0.082938  0.0150  0.006492   \n",
      "149  0.422222          1.0  0.022667  0.035533  0.407109  0.0445  0.009738   \n",
      "150  0.622222          1.0  0.013333  0.015228  0.092417  0.0110  0.005681   \n",
      "..        ...          ...       ...       ...       ...     ...       ...   \n",
      "578  0.400000          1.0  0.037333  0.076142  0.144550  0.0140  0.015419   \n",
      "579  0.288889          1.0  0.026667  0.045685  0.092417  0.0120  0.013187   \n",
      "580  0.333333          1.0  0.010667  0.010152  0.086256  0.0230  0.011564   \n",
      "581  0.588889          1.0  0.264000  0.527919  0.112796  0.0195  0.044837   \n",
      "582  0.433333          1.0  0.050667  0.076142  0.141232  0.0510  0.127815   \n",
      "\n",
      "           TP       ALB       A/G  \n",
      "146  0.739583  0.763636  0.500000  \n",
      "147  0.614583  0.472727  0.250000  \n",
      "148  0.666667  0.618182  0.392857  \n",
      "149  0.625000  0.545455  0.357143  \n",
      "150  0.604167  0.472727  0.285714  \n",
      "..        ...       ...       ...  \n",
      "578  0.614583  0.454545  0.250000  \n",
      "579  0.812500  0.781818  0.428571  \n",
      "580  0.812500  0.781818  0.428571  \n",
      "581  0.843750  0.454545  0.142857  \n",
      "582  0.739583  0.600000  0.285714  \n",
      "\n",
      "[437 rows x 10 columns]           age  gender_Male        TB        DB   Alkphos    Sgpt      Sgot  \\\n",
      "0    0.566667          1.0  0.010667  0.010152  0.173934  0.0210  0.003652   \n",
      "1    0.166667          1.0  0.010667  0.010152  0.180095  0.0125  0.013390   \n",
      "2    0.733333          0.0  0.038667  0.065990  0.079621  0.0105  0.007709   \n",
      "3    0.466667          0.0  0.006667  0.005076  0.076777  0.0775  0.021911   \n",
      "4    0.666667          1.0  0.069333  0.121827  0.079621  0.0630  0.040982   \n",
      "..        ...          ...       ...       ...       ...     ...       ...   \n",
      "141  0.444444          1.0  0.008000  0.005076  0.081043  0.0100  0.003449   \n",
      "142  0.800000          1.0  0.036000  0.065990  0.123223  0.0155  0.011361   \n",
      "143  0.300000          1.0  0.009333  0.010152  0.115166  0.0105  0.004666   \n",
      "144  0.677778          1.0  0.010667  0.010152  0.090995  0.0140  0.007101   \n",
      "145  0.544444          0.0  0.008000  0.005076  0.087678  0.0085  0.005275   \n",
      "\n",
      "           TP       ALB       A/G  \n",
      "0    0.541667  0.363636  0.214286  \n",
      "1    0.635417  0.672727  0.535714  \n",
      "2    0.572917  0.327273  0.142857  \n",
      "3    0.843750  0.727273  0.321429  \n",
      "4    0.708333  0.527273  0.250000  \n",
      "..        ...       ...       ...  \n",
      "141  0.562500  0.454545  0.285714  \n",
      "142  0.770833  0.545455  0.214286  \n",
      "143  0.552083  0.418182  0.250000  \n",
      "144  0.718750  0.618182  0.321429  \n",
      "145  0.687500  0.527273  0.250000  \n",
      "\n",
      "[146 rows x 10 columns] 146    1.0\n",
      "147    0.0\n",
      "148    0.0\n",
      "149    0.0\n",
      "150    1.0\n",
      "      ... \n",
      "578    0.0\n",
      "579    0.0\n",
      "580    1.0\n",
      "581    0.0\n",
      "582    0.0\n",
      "Name: class, Length: 437, dtype: float64 0      0.0\n",
      "1      0.0\n",
      "2      0.0\n",
      "3      0.0\n",
      "4      0.0\n",
      "      ... \n",
      "141    0.0\n",
      "142    0.0\n",
      "143    1.0\n",
      "144    1.0\n",
      "145    1.0\n",
      "Name: class, Length: 146, dtype: float64\n",
      "          age  gender_Male        TB        DB   Alkphos    Sgpt      Sgot  \\\n",
      "0    0.566667          1.0  0.010667  0.010152  0.173934  0.0210  0.003652   \n",
      "1    0.166667          1.0  0.010667  0.010152  0.180095  0.0125  0.013390   \n",
      "2    0.733333          0.0  0.038667  0.065990  0.079621  0.0105  0.007709   \n",
      "3    0.466667          0.0  0.006667  0.005076  0.076777  0.0775  0.021911   \n",
      "4    0.666667          1.0  0.069333  0.121827  0.079621  0.0630  0.040982   \n",
      "..        ...          ...       ...       ...       ...     ...       ...   \n",
      "578  0.400000          1.0  0.037333  0.076142  0.144550  0.0140  0.015419   \n",
      "579  0.288889          1.0  0.026667  0.045685  0.092417  0.0120  0.013187   \n",
      "580  0.333333          1.0  0.010667  0.010152  0.086256  0.0230  0.011564   \n",
      "581  0.588889          1.0  0.264000  0.527919  0.112796  0.0195  0.044837   \n",
      "582  0.433333          1.0  0.050667  0.076142  0.141232  0.0510  0.127815   \n",
      "\n",
      "           TP       ALB       A/G  \n",
      "0    0.541667  0.363636  0.214286  \n",
      "1    0.635417  0.672727  0.535714  \n",
      "2    0.572917  0.327273  0.142857  \n",
      "3    0.843750  0.727273  0.321429  \n",
      "4    0.708333  0.527273  0.250000  \n",
      "..        ...       ...       ...  \n",
      "578  0.614583  0.454545  0.250000  \n",
      "579  0.812500  0.781818  0.428571  \n",
      "580  0.812500  0.781818  0.428571  \n",
      "581  0.843750  0.454545  0.142857  \n",
      "582  0.739583  0.600000  0.285714  \n",
      "\n",
      "[437 rows x 10 columns]           age  gender_Male        TB        DB   Alkphos    Sgpt      Sgot  \\\n",
      "146  0.422222          0.0  0.009333  0.005076  0.072038  0.0450  0.004260   \n",
      "147  0.833333          1.0  0.018667  0.020305  0.101896  0.0250  0.006086   \n",
      "148  0.822222          1.0  0.013333  0.015228  0.082938  0.0150  0.006492   \n",
      "149  0.422222          1.0  0.022667  0.035533  0.407109  0.0445  0.009738   \n",
      "150  0.622222          1.0  0.013333  0.015228  0.092417  0.0110  0.005681   \n",
      "..        ...          ...       ...       ...       ...     ...       ...   \n",
      "287  0.544444          1.0  0.008000  0.005076  0.103318  0.0250  0.010753   \n",
      "288  0.555556          1.0  0.009333  0.010152  0.089100  0.0060  0.002840   \n",
      "289  0.366667          1.0  0.045333  0.081218  0.088152  0.3895  0.171231   \n",
      "290  0.500000          0.0  0.008000  0.005076  0.127962  0.0115  0.008521   \n",
      "291  0.688889          1.0  0.016000  0.020305  0.092417  0.0190  0.010956   \n",
      "\n",
      "           TP       ALB       A/G  \n",
      "146  0.739583  0.763636  0.500000  \n",
      "147  0.614583  0.472727  0.250000  \n",
      "148  0.666667  0.618182  0.392857  \n",
      "149  0.625000  0.545455  0.357143  \n",
      "150  0.604167  0.472727  0.285714  \n",
      "..        ...       ...       ...  \n",
      "287  0.520833  0.436364  0.321429  \n",
      "288  0.729167  0.618182  0.321429  \n",
      "289  0.760417  0.581818  0.250000  \n",
      "290  0.531250  0.363636  0.178571  \n",
      "291  0.656250  0.690909  0.535714  \n",
      "\n",
      "[146 rows x 10 columns] 0      0.0\n",
      "1      0.0\n",
      "2      0.0\n",
      "3      0.0\n",
      "4      0.0\n",
      "      ... \n",
      "578    0.0\n",
      "579    0.0\n",
      "580    1.0\n",
      "581    0.0\n",
      "582    0.0\n",
      "Name: class, Length: 437, dtype: float64 146    1.0\n",
      "147    0.0\n",
      "148    0.0\n",
      "149    0.0\n",
      "150    1.0\n",
      "      ... \n",
      "287    0.0\n",
      "288    0.0\n",
      "289    0.0\n",
      "290    1.0\n",
      "291    0.0\n",
      "Name: class, Length: 146, dtype: float64\n",
      "          age  gender_Male        TB        DB   Alkphos    Sgpt      Sgot  \\\n",
      "0    0.566667          1.0  0.010667  0.010152  0.173934  0.0210  0.003652   \n",
      "1    0.166667          1.0  0.010667  0.010152  0.180095  0.0125  0.013390   \n",
      "2    0.733333          0.0  0.038667  0.065990  0.079621  0.0105  0.007709   \n",
      "3    0.466667          0.0  0.006667  0.005076  0.076777  0.0775  0.021911   \n",
      "4    0.666667          1.0  0.069333  0.121827  0.079621  0.0630  0.040982   \n",
      "..        ...          ...       ...       ...       ...     ...       ...   \n",
      "578  0.400000          1.0  0.037333  0.076142  0.144550  0.0140  0.015419   \n",
      "579  0.288889          1.0  0.026667  0.045685  0.092417  0.0120  0.013187   \n",
      "580  0.333333          1.0  0.010667  0.010152  0.086256  0.0230  0.011564   \n",
      "581  0.588889          1.0  0.264000  0.527919  0.112796  0.0195  0.044837   \n",
      "582  0.433333          1.0  0.050667  0.076142  0.141232  0.0510  0.127815   \n",
      "\n",
      "           TP       ALB       A/G  \n",
      "0    0.541667  0.363636  0.214286  \n",
      "1    0.635417  0.672727  0.535714  \n",
      "2    0.572917  0.327273  0.142857  \n",
      "3    0.843750  0.727273  0.321429  \n",
      "4    0.708333  0.527273  0.250000  \n",
      "..        ...       ...       ...  \n",
      "578  0.614583  0.454545  0.250000  \n",
      "579  0.812500  0.781818  0.428571  \n",
      "580  0.812500  0.781818  0.428571  \n",
      "581  0.843750  0.454545  0.142857  \n",
      "582  0.739583  0.600000  0.285714  \n",
      "\n",
      "[437 rows x 10 columns]           age  gender_Male        TB        DB   Alkphos    Sgpt      Sgot  \\\n",
      "292  0.333333          0.0  0.009333  0.010152  0.029858  0.0155  0.005478   \n",
      "293  0.455556          1.0  0.036000  0.065990  0.274882  0.0710  0.013796   \n",
      "294  0.422222          1.0  0.010667  0.010152  0.098578  0.0125  0.010144   \n",
      "295  0.511111          1.0  0.009333  0.010152  0.106161  0.0200  0.004666   \n",
      "296  0.544444          1.0  0.017333  0.020305  0.097630  0.0150  0.005072   \n",
      "..        ...          ...       ...       ...       ...     ...       ...   \n",
      "433  0.344444          1.0  0.008000  0.005076  0.082938  0.0240  0.006898   \n",
      "434  0.644444          0.0  0.037333  0.065990  0.317536  0.0240  0.016028   \n",
      "435  0.255556          0.0  0.030667  0.040609  0.241232  0.0140  0.008927   \n",
      "436  0.644444          1.0  0.013333  0.025381  0.074882  0.0185  0.008724   \n",
      "437  0.533333          1.0  0.066667  0.131980  0.263033  0.1420  0.038547   \n",
      "\n",
      "           TP       ALB       A/G  \n",
      "292  0.604167  0.618182  0.500000  \n",
      "293  0.833333  0.727273  0.357143  \n",
      "294  0.739583  0.672727  0.357143  \n",
      "295  0.739583  0.545455  0.250000  \n",
      "296  0.625000  0.563636  0.378571  \n",
      "..        ...       ...       ...  \n",
      "433  0.625000  0.672727  0.571429  \n",
      "434  0.489583  0.290909  0.178571  \n",
      "435  0.718750  0.527273  0.250000  \n",
      "436  0.750000  0.654545  0.357143  \n",
      "437  0.677083  0.600000  0.357143  \n",
      "\n",
      "[146 rows x 10 columns] 0      0.0\n",
      "1      0.0\n",
      "2      0.0\n",
      "3      0.0\n",
      "4      0.0\n",
      "      ... \n",
      "578    0.0\n",
      "579    0.0\n",
      "580    1.0\n",
      "581    0.0\n",
      "582    0.0\n",
      "Name: class, Length: 437, dtype: float64 292    0.0\n",
      "293    0.0\n",
      "294    0.0\n",
      "295    0.0\n",
      "296    1.0\n",
      "      ... \n",
      "433    0.0\n",
      "434    0.0\n",
      "435    1.0\n",
      "436    0.0\n",
      "437    0.0\n",
      "Name: class, Length: 146, dtype: float64\n",
      "          age  gender_Male        TB        DB   Alkphos    Sgpt      Sgot  \\\n",
      "0    0.566667          1.0  0.010667  0.010152  0.173934  0.0210  0.003652   \n",
      "1    0.166667          1.0  0.010667  0.010152  0.180095  0.0125  0.013390   \n",
      "2    0.733333          0.0  0.038667  0.065990  0.079621  0.0105  0.007709   \n",
      "3    0.466667          0.0  0.006667  0.005076  0.076777  0.0775  0.021911   \n",
      "4    0.666667          1.0  0.069333  0.121827  0.079621  0.0630  0.040982   \n",
      "..        ...          ...       ...       ...       ...     ...       ...   \n",
      "433  0.344444          1.0  0.008000  0.005076  0.082938  0.0240  0.006898   \n",
      "434  0.644444          0.0  0.037333  0.065990  0.317536  0.0240  0.016028   \n",
      "435  0.255556          0.0  0.030667  0.040609  0.241232  0.0140  0.008927   \n",
      "436  0.644444          1.0  0.013333  0.025381  0.074882  0.0185  0.008724   \n",
      "437  0.533333          1.0  0.066667  0.131980  0.263033  0.1420  0.038547   \n",
      "\n",
      "           TP       ALB       A/G  \n",
      "0    0.541667  0.363636  0.214286  \n",
      "1    0.635417  0.672727  0.535714  \n",
      "2    0.572917  0.327273  0.142857  \n",
      "3    0.843750  0.727273  0.321429  \n",
      "4    0.708333  0.527273  0.250000  \n",
      "..        ...       ...       ...  \n",
      "433  0.625000  0.672727  0.571429  \n",
      "434  0.489583  0.290909  0.178571  \n",
      "435  0.718750  0.527273  0.250000  \n",
      "436  0.750000  0.654545  0.357143  \n",
      "437  0.677083  0.600000  0.357143  \n",
      "\n",
      "[438 rows x 10 columns]           age  gender_Male        TB        DB   Alkphos    Sgpt      Sgot  \\\n",
      "438  0.566667          1.0  0.010667  0.010152  0.082938  0.0240  0.004463   \n",
      "439  0.466667          1.0  0.118667  0.228426  0.128910  0.0155  0.012376   \n",
      "440  0.355556          1.0  0.008000  0.005076  0.112322  0.0225  0.006289   \n",
      "441  0.355556          1.0  0.406667  0.868020  0.103318  0.0195  0.016028   \n",
      "442  0.266667          1.0  0.044000  0.081218  0.082464  0.0055  0.006695   \n",
      "..        ...          ...       ...       ...       ...     ...       ...   \n",
      "578  0.400000          1.0  0.037333  0.076142  0.144550  0.0140  0.015419   \n",
      "579  0.288889          1.0  0.026667  0.045685  0.092417  0.0120  0.013187   \n",
      "580  0.333333          1.0  0.010667  0.010152  0.086256  0.0230  0.011564   \n",
      "581  0.588889          1.0  0.264000  0.527919  0.112796  0.0195  0.044837   \n",
      "582  0.433333          1.0  0.050667  0.076142  0.141232  0.0510  0.127815   \n",
      "\n",
      "           TP       ALB       A/G  \n",
      "438  0.843750  0.836364  0.464286  \n",
      "439  0.604167  0.363636  0.178571  \n",
      "440  0.781250  0.781818  0.478571  \n",
      "441  0.572917  0.490909  0.321429  \n",
      "442  0.791667  0.709091  0.357143  \n",
      "..        ...       ...       ...  \n",
      "578  0.614583  0.454545  0.250000  \n",
      "579  0.812500  0.781818  0.428571  \n",
      "580  0.812500  0.781818  0.428571  \n",
      "581  0.843750  0.454545  0.142857  \n",
      "582  0.739583  0.600000  0.285714  \n",
      "\n",
      "[145 rows x 10 columns] 0      0.0\n",
      "1      0.0\n",
      "2      0.0\n",
      "3      0.0\n",
      "4      0.0\n",
      "      ... \n",
      "433    0.0\n",
      "434    0.0\n",
      "435    1.0\n",
      "436    0.0\n",
      "437    0.0\n",
      "Name: class, Length: 438, dtype: float64 438    0.0\n",
      "439    0.0\n",
      "440    0.0\n",
      "441    0.0\n",
      "442    1.0\n",
      "      ... \n",
      "578    0.0\n",
      "579    0.0\n",
      "580    1.0\n",
      "581    0.0\n",
      "582    0.0\n",
      "Name: class, Length: 145, dtype: float64\n"
     ]
    }
   ],
   "source": [
    "from sklearn.model_selection import KFold\n",
    "X_2 = df_2.iloc[:,:-1]\n",
    "y_2 = df_2.iloc[:, -1]\n",
    "kf = KFold(n_splits=4) # Define the split - into 2 folds \n",
    "kf.get_n_splits(X_2)\n",
    "for train_index, test_index in kf.split(X_2):\n",
    "    X_train_2, X_test_2 = X_2.iloc[train_index], X_2.iloc[test_index]\n",
    "    y_train_2, y_test_2 = y_2.iloc[train_index], y_2.iloc[test_index]\n",
    "    print(X_train_2, X_test_2, y_train_2, y_test_2)"
   ]
  },
  {
   "cell_type": "code",
   "execution_count": 85,
   "metadata": {
    "scrolled": true
   },
   "outputs": [],
   "source": [
    "performance_out = 1 - sum(np.abs(y_predict[:,1] - y_predict[:,0])) / N_prime"
   ]
  },
  {
   "cell_type": "code",
   "execution_count": 86,
   "metadata": {
    "scrolled": true
   },
   "outputs": [
    {
     "name": "stdout",
     "output_type": "stream",
     "text": [
      "\n",
      "Node 7\n",
      "Predicted label: 0\n",
      "No. of obs.: 436\n",
      "\n",
      "Node 8\n",
      "Predicted label: 0\n",
      "No. of obs.: 1\n"
     ]
    }
   ],
   "source": [
    "for i in range(len(labels)):\n",
    "    print('\\nNode {}'.format(str(i+7)))\n",
    "    print('Predicted label: {}'.format(str(labels[i])))\n",
    "    print('No. of obs.: {}'.format(nodes[i].shape[0]))"
   ]
  },
  {
   "cell_type": "markdown",
   "metadata": {},
   "source": [
    "###  Rules and performance of OCT"
   ]
  },
  {
   "cell_type": "code",
   "execution_count": 87,
   "metadata": {
    "scrolled": true
   },
   "outputs": [
    {
     "name": "stdout",
     "output_type": "stream",
     "text": [
      "The decision rules in OCT is  {1: \"('A/G' <= 0.89)\", 2: \"('A/G' > 0.89)\"}\n",
      "\n",
      "The in-sample performance in OCT is 0.7162471395881007\n",
      "\n",
      "The out-of-sample performance in OCT is 0.703448275862069\n"
     ]
    }
   ],
   "source": [
    "print('The decision rules in OCT is ', OCT_rules)\n",
    "print('\\nThe in-sample performance in OCT is', performance_in)\n",
    "print('\\nThe out-of-sample performance in OCT is',  performance_out)"
   ]
  },
  {
   "cell_type": "markdown",
   "metadata": {},
   "source": [
    "**In this dataset, OCT and CART's performance is the same.**"
   ]
  }
 ],
 "metadata": {
  "kernelspec": {
   "display_name": "Python 3",
   "language": "python",
   "name": "python3"
  },
  "language_info": {
   "codemirror_mode": {
    "name": "ipython",
    "version": 3
   },
   "file_extension": ".py",
   "mimetype": "text/x-python",
   "name": "python",
   "nbconvert_exporter": "python",
   "pygments_lexer": "ipython3",
   "version": "3.8.3"
  },
  "toc": {
   "base_numbering": 1,
   "nav_menu": {},
   "number_sections": true,
   "sideBar": true,
   "skip_h1_title": false,
   "title_cell": "Table of Contents",
   "title_sidebar": "Contents",
   "toc_cell": false,
   "toc_position": {
    "height": "calc(100% - 180px)",
    "left": "10px",
    "top": "150px",
    "width": "165px"
   },
   "toc_section_display": true,
   "toc_window_display": false
  }
 },
 "nbformat": 4,
 "nbformat_minor": 4
}
